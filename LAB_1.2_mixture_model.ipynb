{
 "cells": [
  {
   "cell_type": "code",
   "execution_count": null,
   "id": "5dbc00bb",
   "metadata": {},
   "outputs": [],
   "source": [
    "# Вычисления\n",
    "import numpy as np\n",
    "import pandas as pd\n",
    "import scipy\n",
    "from sklearn.mixture import GaussianMixture\n",
    "# Визуализация\n",
    "import plotly.express as px\n",
    "import plotly.graph_objects as go\n",
    "import seaborn as sns\n",
    "%matplotlib notebook"
   ]
  },
  {
   "cell_type": "code",
   "execution_count": null,
   "id": "f39b8a13",
   "metadata": {},
   "outputs": [],
   "source": [
    "import lab1"
   ]
  },
  {
   "cell_type": "code",
   "execution_count": null,
   "id": "88c8c06d",
   "metadata": {},
   "outputs": [],
   "source": [
    "df = pd.read_csv('data/raifhack_train.csv', usecols=lambda x: x not in ['floor'])"
   ]
  },
  {
   "cell_type": "code",
   "execution_count": null,
   "id": "eb6e53b9",
   "metadata": {},
   "outputs": [],
   "source": []
  },
  {
   "cell_type": "markdown",
   "id": "ad002e29",
   "metadata": {},
   "source": [
    "## Модель смеси"
   ]
  },
  {
   "cell_type": "code",
   "execution_count": null,
   "id": "f49108b0",
   "metadata": {},
   "outputs": [],
   "source": [
    "bi_var = df['osm_subway_closest_dist'].sample(frac=0.1, random_state=0)\n",
    "bi_var = bi_var.apply(np.log)"
   ]
  },
  {
   "cell_type": "code",
   "execution_count": null,
   "id": "7e3de442",
   "metadata": {},
   "outputs": [],
   "source": [
    "fig = px.histogram(bi_var, nbins=50, template='plotly_white')\n",
    "fig.layout.showlegend=False\n",
    "fig.show()"
   ]
  },
  {
   "cell_type": "code",
   "execution_count": null,
   "id": "67687fec",
   "metadata": {},
   "outputs": [],
   "source": [
    "sns.set_style('whitegrid')\n",
    "plot = sns.histplot(bi_var, kde=True, bins=30, fill=False)\n",
    "plot.lines[0].set_color('black')\n",
    "plot"
   ]
  },
  {
   "cell_type": "markdown",
   "id": "1eae707f",
   "metadata": {},
   "source": [
    "**Количество компонент смотрим по BIC**"
   ]
  },
  {
   "cell_type": "code",
   "execution_count": null,
   "id": "b341b6e6",
   "metadata": {},
   "outputs": [],
   "source": [
    "gm_x = bi_var.values.reshape(-1, 1)\n",
    "gm_search = list(range(1, 9))\n",
    "bic_scores = [\n",
    "    GaussianMixture(n_components=n_components, random_state=0).fit(gm_x).bic(gm_x)\n",
    "    for n_components in gm_search \n",
    "]"
   ]
  },
  {
   "cell_type": "code",
   "execution_count": null,
   "id": "d3fe4de9",
   "metadata": {},
   "outputs": [],
   "source": [
    "fig = px.line(x=gm_search, y=bic_scores, template='plotly_white')\n",
    "fig.data[0].mode='lines+markers'\n",
    "fig.update_layout(\n",
    "    xaxis_title='Число компонент',\n",
    "    yaxis_title='BIC score',\n",
    ")\n",
    "fig.show()"
   ]
  },
  {
   "cell_type": "markdown",
   "id": "096315fa",
   "metadata": {},
   "source": [
    "**Посмотрим выделенные кластеры**"
   ]
  },
  {
   "cell_type": "code",
   "execution_count": null,
   "id": "d236cf99",
   "metadata": {},
   "outputs": [],
   "source": [
    "clusters = GaussianMixture(n_components=2, random_state=0).fit_predict(gm_x)"
   ]
  },
  {
   "cell_type": "code",
   "execution_count": null,
   "id": "61132860",
   "metadata": {},
   "outputs": [],
   "source": [
    "px.histogram( \n",
    "    bi_var,\n",
    "    nbins=50,\n",
    "    color=clusters,\n",
    "    template='plotly_white'\n",
    ")"
   ]
  },
  {
   "cell_type": "code",
   "execution_count": null,
   "id": "c808413e",
   "metadata": {},
   "outputs": [],
   "source": [
    "np.unique(clusters, return_counts=True)"
   ]
  },
  {
   "cell_type": "code",
   "execution_count": null,
   "id": "477194ee",
   "metadata": {},
   "outputs": [],
   "source": []
  },
  {
   "cell_type": "markdown",
   "id": "6d8a137a",
   "metadata": {},
   "source": [
    "## Выбираем признак"
   ]
  },
  {
   "cell_type": "code",
   "execution_count": null,
   "id": "e33fb4da",
   "metadata": {},
   "outputs": [],
   "source": [
    "# var = bi_var[clusters==1].sample(150, random_state=0)\n",
    "var = bi_var[clusters==0].sample(150, random_state=0)"
   ]
  },
  {
   "cell_type": "markdown",
   "id": "c47d4572",
   "metadata": {},
   "source": [
    "**Преобразования**"
   ]
  },
  {
   "cell_type": "code",
   "execution_count": null,
   "id": "73ebc218",
   "metadata": {},
   "outputs": [],
   "source": [
    "# var = var.apply(np.log)"
   ]
  },
  {
   "cell_type": "code",
   "execution_count": null,
   "id": "c3348042",
   "metadata": {},
   "outputs": [],
   "source": [
    "var = lab1.cut_tails(var)"
   ]
  },
  {
   "cell_type": "code",
   "execution_count": null,
   "id": "0dbcf226",
   "metadata": {},
   "outputs": [],
   "source": [
    "# Определяем количество бинов\n",
    "nbins = lab1.get_nbins(var)\n",
    "nbins"
   ]
  },
  {
   "cell_type": "code",
   "execution_count": null,
   "id": "19bad96a",
   "metadata": {},
   "outputs": [],
   "source": []
  },
  {
   "cell_type": "markdown",
   "id": "c0c1567a",
   "metadata": {},
   "source": [
    "## Описательные статистики"
   ]
  },
  {
   "cell_type": "code",
   "execution_count": null,
   "id": "e2b23ac6",
   "metadata": {},
   "outputs": [],
   "source": [
    "fig = px.histogram(var, \n",
    "                   marginal='box', \n",
    "                   template='plotly_white')\n",
    "fig.layout.showlegend=False\n",
    "fig.show()"
   ]
  },
  {
   "cell_type": "code",
   "execution_count": null,
   "id": "802372a0",
   "metadata": {},
   "outputs": [],
   "source": [
    "{i:round(j,5) \n",
    " for i,j in var.describe().to_dict().items()}"
   ]
  },
  {
   "cell_type": "code",
   "execution_count": null,
   "id": "5c45500b",
   "metadata": {},
   "outputs": [],
   "source": [
    "{i:round(j,5)\n",
    " for i,j in lab1.get_main_quantiles(var).items()}"
   ]
  },
  {
   "cell_type": "markdown",
   "id": "6d57af14",
   "metadata": {},
   "source": [
    "## Подбор параметров"
   ]
  },
  {
   "cell_type": "code",
   "execution_count": null,
   "id": "cd4c4537",
   "metadata": {},
   "outputs": [],
   "source": [
    "# Теоретическое распределение\n",
    "theory_distr = scipy.stats.norm"
   ]
  },
  {
   "cell_type": "code",
   "execution_count": null,
   "id": "e3795e42",
   "metadata": {},
   "outputs": [],
   "source": [
    "params = theory_distr.fit(var)\n",
    "params = np.array(params)\n",
    "\n",
    "# params = np.array([\n",
    "#     var.mean(),\n",
    "#     var.std()\n",
    "# ])\n",
    "\n",
    "params"
   ]
  },
  {
   "cell_type": "markdown",
   "id": "e675088b",
   "metadata": {},
   "source": [
    "**Метод наименьших квадратов**"
   ]
  },
  {
   "cell_type": "code",
   "execution_count": null,
   "id": "469a8c95",
   "metadata": {},
   "outputs": [],
   "source": [
    "ls_result = lab1.least_squares_method(var, theory_distr, x0=params*0.9)"
   ]
  },
  {
   "cell_type": "code",
   "execution_count": null,
   "id": "d7abbf8b",
   "metadata": {},
   "outputs": [],
   "source": [
    "print(ls_result)"
   ]
  },
  {
   "cell_type": "code",
   "execution_count": null,
   "id": "5500e08a",
   "metadata": {},
   "outputs": [],
   "source": [
    "ls_result.x"
   ]
  },
  {
   "cell_type": "markdown",
   "id": "246ef663",
   "metadata": {},
   "source": [
    "**Метод максимального правдоподобия**"
   ]
  },
  {
   "cell_type": "code",
   "execution_count": null,
   "id": "1f258fd1",
   "metadata": {},
   "outputs": [],
   "source": [
    "ml_result = lab1.max_likelihood_method(var, theory_distr, x0=params*0.9)"
   ]
  },
  {
   "cell_type": "code",
   "execution_count": null,
   "id": "e8a995b3",
   "metadata": {},
   "outputs": [],
   "source": [
    "print(ml_result)"
   ]
  },
  {
   "cell_type": "code",
   "execution_count": null,
   "id": "5df85297",
   "metadata": {},
   "outputs": [],
   "source": [
    "ml_result.x"
   ]
  },
  {
   "cell_type": "code",
   "execution_count": null,
   "id": "40082e9f",
   "metadata": {},
   "outputs": [],
   "source": [
    "# Готовое распределение\n",
    "theory_distr_with_params = theory_distr(*params)"
   ]
  },
  {
   "cell_type": "code",
   "execution_count": null,
   "id": "fd948cfb",
   "metadata": {},
   "outputs": [],
   "source": []
  },
  {
   "cell_type": "markdown",
   "id": "ea6a0098",
   "metadata": {},
   "source": [
    "## Проверка подобранного распределения"
   ]
  },
  {
   "cell_type": "markdown",
   "id": "d77fc67e",
   "metadata": {},
   "source": [
    "**QQ Plot**"
   ]
  },
  {
   "cell_type": "code",
   "execution_count": null,
   "id": "9c433311",
   "metadata": {},
   "outputs": [],
   "source": [
    "lab1.qq_plot(var, theory_distr_with_params)"
   ]
  },
  {
   "cell_type": "markdown",
   "id": "d2712948",
   "metadata": {},
   "source": [
    "**KDE Plot**"
   ]
  },
  {
   "cell_type": "code",
   "execution_count": null,
   "id": "4135bf76",
   "metadata": {},
   "outputs": [],
   "source": [
    "# lab1.kde_plot(var, theory_distr_with_params)"
   ]
  },
  {
   "cell_type": "markdown",
   "id": "46cad2da",
   "metadata": {},
   "source": [
    "**Гистограмма**"
   ]
  },
  {
   "cell_type": "code",
   "execution_count": null,
   "id": "a14d8557",
   "metadata": {
    "scrolled": false
   },
   "outputs": [],
   "source": [
    "lab1.hist_fitted_plot(var, theory_distr_with_params)"
   ]
  },
  {
   "cell_type": "markdown",
   "id": "21fa7937",
   "metadata": {},
   "source": [
    "## Статистические тесты"
   ]
  },
  {
   "cell_type": "markdown",
   "id": "95544fe1",
   "metadata": {},
   "source": [
    "**Тест Колмогорова-Смирнова**"
   ]
  },
  {
   "cell_type": "code",
   "execution_count": null,
   "id": "9d58778c",
   "metadata": {},
   "outputs": [],
   "source": [
    "scipy.stats.kstest(var, theory_distr_with_params.cdf)"
   ]
  },
  {
   "cell_type": "markdown",
   "id": "b19c2836",
   "metadata": {},
   "source": [
    "**Тест Хи-квадрат**"
   ]
  },
  {
   "cell_type": "code",
   "execution_count": null,
   "id": "b4e43181",
   "metadata": {},
   "outputs": [],
   "source": [
    "f_obs, f_exp = lab1.chi_square_bins(var, theory_distr_with_params, nbins)\n",
    "f_obs, f_exp"
   ]
  },
  {
   "cell_type": "code",
   "execution_count": null,
   "id": "4b2d9473",
   "metadata": {},
   "outputs": [],
   "source": [
    "scipy.stats.chisquare(f_obs=f_obs, f_exp=f_exp)"
   ]
  },
  {
   "cell_type": "markdown",
   "id": "7ea7a754",
   "metadata": {},
   "source": [
    "**Тест Жака-Бера**"
   ]
  },
  {
   "cell_type": "code",
   "execution_count": null,
   "id": "2e57ec7c",
   "metadata": {},
   "outputs": [],
   "source": [
    "if theory_distr.name == 'norm':\n",
    "    print( scipy.stats.jarque_bera(var) )"
   ]
  },
  {
   "cell_type": "code",
   "execution_count": null,
   "id": "950f879b",
   "metadata": {},
   "outputs": [],
   "source": []
  },
  {
   "cell_type": "markdown",
   "id": "376aaa57",
   "metadata": {},
   "source": [
    "## Сэмплирование"
   ]
  },
  {
   "cell_type": "code",
   "execution_count": null,
   "id": "abd57dd8",
   "metadata": {},
   "outputs": [],
   "source": [
    "# sample_red = lab1.clt_generator(size=10_000, n_layers=100, mean=params[0], std=params[1])"
   ]
  },
  {
   "cell_type": "code",
   "execution_count": null,
   "id": "43f70410",
   "metadata": {},
   "outputs": [],
   "source": [
    "# sample_blue = lab1.clt_generator(size=10_000, n_layers=100, mean=params[0], std=params[1])"
   ]
  },
  {
   "cell_type": "code",
   "execution_count": null,
   "id": "541186f0",
   "metadata": {},
   "outputs": [],
   "source": [
    "sample = np.concatenate([\n",
    "    sample_red, sample_blue\n",
    "])"
   ]
  },
  {
   "cell_type": "code",
   "execution_count": null,
   "id": "839cfff7",
   "metadata": {},
   "outputs": [],
   "source": [
    "bi_var_sample = np.concatenate([\n",
    "    bi_var[clusters==1].sample(150, random_state=0),\n",
    "    bi_var[clusters==0].sample(150, random_state=0)\n",
    "])"
   ]
  },
  {
   "cell_type": "code",
   "execution_count": null,
   "id": "23009c26",
   "metadata": {},
   "outputs": [],
   "source": []
  },
  {
   "cell_type": "code",
   "execution_count": null,
   "id": "5e889276",
   "metadata": {},
   "outputs": [],
   "source": [
    "fig = px.histogram(sample,\n",
    "                   nbins=100,\n",
    "                   marginal='box', \n",
    "                   template='plotly_white')\n",
    "fig.layout.showlegend=False\n",
    "fig.show()"
   ]
  },
  {
   "cell_type": "markdown",
   "id": "863305f1",
   "metadata": {},
   "source": [
    "**QQ Plot**"
   ]
  },
  {
   "cell_type": "code",
   "execution_count": null,
   "id": "0e422d35",
   "metadata": {},
   "outputs": [],
   "source": [
    "uniform_quantiles = np.linspace(0, 1, 50+1)[1:-1]\n",
    "fig = px.scatter(\n",
    "    x=np.quantile(bi_var_sample, uniform_quantiles),\n",
    "    y=np.quantile(sample, uniform_quantiles),\n",
    "    template='plotly_white'\n",
    ")\n",
    "\n",
    "fig.add_trace(go.Scatter(\n",
    "    x=np.quantile(sample, uniform_quantiles),\n",
    "    y=np.quantile(sample, uniform_quantiles),\n",
    "    line_color='lightgrey',\n",
    "    line_dash='dash'\n",
    "))\n",
    "\n",
    "fig.data[0].marker.size = 5\n",
    "fig.layout.showlegend=False\n",
    "\n",
    "fig.update_layout(\n",
    "    xaxis_title='Фактические значения', \n",
    "    yaxis_title='Теоретические значения'\n",
    ")\n",
    "\n",
    "fig.show()"
   ]
  },
  {
   "cell_type": "code",
   "execution_count": null,
   "id": "32607fa5",
   "metadata": {},
   "outputs": [],
   "source": []
  },
  {
   "cell_type": "code",
   "execution_count": null,
   "id": "70d9b21e",
   "metadata": {},
   "outputs": [],
   "source": []
  },
  {
   "cell_type": "code",
   "execution_count": null,
   "id": "29437924",
   "metadata": {},
   "outputs": [],
   "source": []
  }
 ],
 "metadata": {
  "kernelspec": {
   "display_name": "Python 3 (ipykernel)",
   "language": "python",
   "name": "python3"
  },
  "language_info": {
   "codemirror_mode": {
    "name": "ipython",
    "version": 3
   },
   "file_extension": ".py",
   "mimetype": "text/x-python",
   "name": "python",
   "nbconvert_exporter": "python",
   "pygments_lexer": "ipython3",
   "version": "3.9.12"
  }
 },
 "nbformat": 4,
 "nbformat_minor": 5
}
