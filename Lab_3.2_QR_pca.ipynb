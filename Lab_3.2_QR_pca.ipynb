{
 "cells": [
  {
   "cell_type": "code",
   "execution_count": 1,
   "metadata": {
    "id": "e30_rjrAY3BB"
   },
   "outputs": [],
   "source": [
    "# Обработка данных\n",
    "import numpy as np\n",
    "from numpy.polynomial import Polynomial\n",
    "import pandas as pd\n",
    "from os import listdir\n",
    "# Визуализация\n",
    "import plotly.express as px\n",
    "import plotly.io as pio\n",
    "pio.templates.default = 'plotly_white'"
   ]
  },
  {
   "cell_type": "markdown",
   "metadata": {
    "id": "VOdcpigpZ47t"
   },
   "source": [
    "## Метод QR-разложения"
   ]
  },
  {
   "cell_type": "markdown",
   "metadata": {},
   "source": [
    "https://en.wikipedia.org/wiki/QR_decomposition\n",
    "\n",
    "https://stats.stackexchange.com/questions/20643/finding-matrix-eigenvectors-using-qr-decomposition"
   ]
  },
  {
   "cell_type": "code",
   "execution_count": 2,
   "metadata": {},
   "outputs": [],
   "source": [
    "def QR(A):\n",
    "    \n",
    "    def proj(u, a):\n",
    "        return np.inner(u, a) / np.inner(u, u) * u\n",
    "    \n",
    "    k = A.shape[0]\n",
    "    Q = np.zeros(A.shape)\n",
    "    a = A.T\n",
    "    for i in range(k):\n",
    "        Q[i, :] = a[i] - sum(\n",
    "            proj(Q[j], a[i]) \n",
    "            for j in range(i)\n",
    "        )\n",
    "\n",
    "    Q = Q.T / np.linalg.norm(Q, axis=1)\n",
    "    R = np.dot(Q.T, A)\n",
    "    return Q, R\n",
    "\n",
    "\n",
    "def QR_eigen(A, n_iter=100):\n",
    "    X = A.copy()\n",
    "    qq = np.eye(A.shape[0])\n",
    "\n",
    "    for i in range(n_iter):\n",
    "        Q, R = np.linalg.qr(X)\n",
    "        qq = np.dot(qq, Q)\n",
    "        X = np.dot(R, Q)\n",
    "\n",
    "    return np.diagonal(X), qq"
   ]
  },
  {
   "cell_type": "markdown",
   "metadata": {
    "id": "tLZhwKfwZ-Mn"
   },
   "source": [
    "## Выбор данных"
   ]
  },
  {
   "cell_type": "markdown",
   "metadata": {
    "id": "W1fA_XZZaB09"
   },
   "source": [
    "Источник: https://data.worldbank.org/indicator\n",
    "\n",
    "Мотивация: сжатие данных позволит выделить основные характеристики стран\n",
    "\n",
    "Гипотеза: первая главная компонента будет соответствовать развитости страны"
   ]
  },
  {
   "cell_type": "code",
   "execution_count": 3,
   "metadata": {
    "id": "lxPZkdM8Z0je"
   },
   "outputs": [],
   "source": [
    "DATA_DIR = 'data/world_bank_data/'"
   ]
  },
  {
   "cell_type": "code",
   "execution_count": 4,
   "metadata": {
    "id": "Twd76J0WZ0l2"
   },
   "outputs": [],
   "source": [
    "def read_data(path):\n",
    "    df = pd.DataFrame()\n",
    "    for file in sorted(listdir(path)):\n",
    "        # Читаем файл\n",
    "        series = pd.read_excel(\n",
    "            DATA_DIR+file, \n",
    "            skiprows=3,\n",
    "            # Индексом используем код страны,\n",
    "            # потому что он используется для карты\n",
    "            index_col='Country Code'\n",
    "        )\n",
    "        # Берем среднее за 2017-2019 год, преимущества:\n",
    "        # 1) Меньше пропущенных значений\n",
    "        # 2) Небольшое сглаживание \n",
    "        series = series.loc[:, '2017':'2019'].mean(axis=1)\n",
    "        df[file] = series\n",
    "    df.columns = df.columns.str.replace('.xls', '', regex=False)\n",
    "    return df"
   ]
  },
  {
   "cell_type": "code",
   "execution_count": 5,
   "metadata": {
    "colab": {
     "base_uri": "https://localhost:8080/"
    },
    "id": "iybdNaJZZ0oZ",
    "outputId": "8048afe0-e9c6-4af0-8eea-2f52d137cab4"
   },
   "outputs": [
    {
     "data": {
      "text/plain": [
       "['Adolescent fertility.xls',\n",
       " 'Fertility rate.xls',\n",
       " 'GDP per capita PPP.xls',\n",
       " 'Life expectancy.xls',\n",
       " 'Population ages 0-14.xls',\n",
       " 'Population ages 65+.xls',\n",
       " 'Population growth.xls',\n",
       " 'Urban population.xls',\n",
       " 'Working in agriculture.xls',\n",
       " 'Working in industry.xls']"
      ]
     },
     "execution_count": 5,
     "metadata": {},
     "output_type": "execute_result"
    }
   ],
   "source": [
    "sorted(listdir(DATA_DIR))"
   ]
  },
  {
   "cell_type": "markdown",
   "metadata": {
    "id": "iX3shmFtc642"
   },
   "source": [
    "Использованные признаки:\n",
    "\n",
    "* ВВП на душу по покупательной способности\n",
    "* Ожидаемая продолжительность жизни\n",
    "* Процент городского населения\n",
    "* Общая рождаемость\n",
    "* Рост населения, %\n",
    "* Рождаемость среди подростков (15-19)\n",
    "* Процент занятых в сельском хозяйстве\n",
    "* Процент занятых в промышленности\n",
    "* Население младше 14, %\n",
    "* Население старше 65, %\n",
    "\n"
   ]
  },
  {
   "cell_type": "code",
   "execution_count": 6,
   "metadata": {
    "id": "bzKsGUGxZ0q9"
   },
   "outputs": [],
   "source": [
    "df = read_data(DATA_DIR)"
   ]
  },
  {
   "cell_type": "code",
   "execution_count": 7,
   "metadata": {
    "id": "k8uwNi3UZ0tL"
   },
   "outputs": [],
   "source": [
    "# Так как пропуски неслучайные, их просто удалим\n",
    "df = df.dropna()"
   ]
  },
  {
   "cell_type": "code",
   "execution_count": 8,
   "metadata": {
    "colab": {
     "base_uri": "https://localhost:8080/"
    },
    "id": "pprgLmDNZ0vu",
    "outputId": "2e690cba-7feb-4177-e928-24115efde041"
   },
   "outputs": [
    {
     "data": {
      "text/plain": [
       "(223, 10)"
      ]
     },
     "execution_count": 8,
     "metadata": {},
     "output_type": "execute_result"
    }
   ],
   "source": [
    "df.shape"
   ]
  },
  {
   "cell_type": "code",
   "execution_count": 9,
   "metadata": {
    "id": "0XKjhhZBZ0yA"
   },
   "outputs": [],
   "source": [
    "# Часть зависимостей получалась нелинейной, для них применим логарифм\n",
    "df['GDP per capita PPP'] = df['GDP per capita PPP'].apply(np.log)\n",
    "df['Population ages 65+'] = df['Population ages 65+'].apply(np.log)"
   ]
  },
  {
   "cell_type": "code",
   "execution_count": 10,
   "metadata": {
    "id": "arD05LuceBNx"
   },
   "outputs": [],
   "source": [
    "# Нормализация\n",
    "# Вычесть среднее нужно для разложения\n",
    "# Деление на std убирает разницу единиц измерения\n",
    "df_norm = (df - df.mean()) / df.std()"
   ]
  },
  {
   "cell_type": "code",
   "execution_count": null,
   "metadata": {
    "id": "bFmulm_4eBP8"
   },
   "outputs": [],
   "source": []
  },
  {
   "cell_type": "code",
   "execution_count": null,
   "metadata": {
    "id": "GLhA_FTyeBSw"
   },
   "outputs": [],
   "source": []
  },
  {
   "cell_type": "markdown",
   "metadata": {
    "id": "JiJOBvmZgQZF"
   },
   "source": [
    "## Применение PCA"
   ]
  },
  {
   "cell_type": "code",
   "execution_count": 11,
   "metadata": {
    "id": "QNWvtmd_eBUt"
   },
   "outputs": [],
   "source": [
    "def cov(X):\n",
    "    return np.dot(X, X.T) / (X.shape[1] - 1)"
   ]
  },
  {
   "cell_type": "code",
   "execution_count": 12,
   "metadata": {
    "id": "pqapiHXseBWx"
   },
   "outputs": [],
   "source": [
    "X = df_norm.values\n",
    "cov_matrix = cov(X.T)"
   ]
  },
  {
   "cell_type": "code",
   "execution_count": 13,
   "metadata": {
    "colab": {
     "base_uri": "https://localhost:8080/"
    },
    "id": "OxXax5RteBZN",
    "outputId": "828273fe-3055-4545-8472-8058d9a9172b"
   },
   "outputs": [
    {
     "name": "stdout",
     "output_type": "stream",
     "text": [
      "CPU times: total: 15.6 ms\n",
      "Wall time: 10 ms\n"
     ]
    },
    {
     "data": {
      "text/plain": [
       "(array([7.33407736, 0.91814861, 0.7067822 , 0.37059063, 0.17744381,\n",
       "        0.15631407, 0.14018248, 0.10485524, 0.06639169, 0.02521391]),\n",
       " array([[ 0.3223444 ,  0.08318889,  0.19005476, -0.57314822, -0.48209276,\n",
       "         -0.43030734, -0.29211821,  0.14092405,  0.0349189 , -0.02375285],\n",
       "        [ 0.34872139,  0.16418408, -0.01863818, -0.10736653, -0.22222192,\n",
       "          0.49074181,  0.27016395, -0.19748893,  0.4153561 , -0.51462684],\n",
       "        [-0.34187657,  0.25050102,  0.09562972,  0.05654197, -0.05397934,\n",
       "         -0.02062082, -0.44750156, -0.53111159,  0.52087223,  0.22592827],\n",
       "        [-0.33888475,  0.07627114,  0.1043441 ,  0.40247167, -0.43585069,\n",
       "         -0.15939703,  0.19618887,  0.55099933,  0.38175296, -0.05718225],\n",
       "        [ 0.35757053,  0.1173973 , -0.05209595, -0.0657474 , -0.020014  ,\n",
       "          0.35596006,  0.11103611,  0.24312491,  0.21209679,  0.77961053],\n",
       "        [-0.31697031, -0.32085071,  0.3174507 , -0.13111959, -0.52941592,\n",
       "          0.27396738,  0.28505959, -0.31818975, -0.31184186,  0.20863598],\n",
       "        [ 0.27998835,  0.56651335, -0.06608942,  0.49099178, -0.32705482,\n",
       "         -0.08670126, -0.02994628, -0.2188255 , -0.43576762,  0.04551528],\n",
       "        [-0.26067041,  0.60393633,  0.31463013, -0.34814376,  0.29337698,\n",
       "         -0.13989642,  0.48796503,  0.00475967, -0.04710323,  0.03351631],\n",
       "        [ 0.33032717, -0.29856951,  0.0770817 ,  0.20600162,  0.06420312,\n",
       "         -0.54690331,  0.46812007, -0.36926156,  0.27317329,  0.14150101],\n",
       "        [-0.24285712,  0.07750884, -0.85481496, -0.26184796, -0.21791209,\n",
       "         -0.14219143,  0.22627335, -0.10412956,  0.01583027,  0.07577965]]))"
      ]
     },
     "execution_count": 13,
     "metadata": {},
     "output_type": "execute_result"
    }
   ],
   "source": [
    "%%time\n",
    "QR_eigen(cov_matrix)"
   ]
  },
  {
   "cell_type": "code",
   "execution_count": 14,
   "metadata": {
    "id": "yKObyhkIJ3Cp"
   },
   "outputs": [
    {
     "data": {
      "text/plain": [
       "(array([7.33407736, 0.91814861, 0.7067822 , 0.37059063, 0.17744381,\n",
       "        0.15631407, 0.14018248, 0.10485524, 0.06639169, 0.02521391]),\n",
       " array([[ 0.3223444 ,  0.08318889, -0.19005476, -0.57314822,  0.48209455,\n",
       "          0.43030323,  0.2921213 , -0.14092405, -0.0349189 ,  0.02375285],\n",
       "        [ 0.34872139,  0.16418408,  0.01863818, -0.10736653,  0.22221987,\n",
       "         -0.4907408 , -0.27016747,  0.19748893, -0.4153561 ,  0.51462684],\n",
       "        [-0.34187657,  0.25050102, -0.09562972,  0.05654197,  0.05397943,\n",
       "          0.02061739,  0.4475017 ,  0.53111159, -0.52087223, -0.22592827],\n",
       "        [-0.33888475,  0.07627114, -0.1043441 ,  0.40247167,  0.43585135,\n",
       "          0.15939661, -0.19618773, -0.55099933, -0.38175296,  0.05718225],\n",
       "        [ 0.35757053,  0.1173973 ,  0.05209595, -0.0657474 ,  0.02001251,\n",
       "         -0.35595934, -0.11103866, -0.24312491, -0.21209679, -0.77961053],\n",
       "        [-0.31697031, -0.32085071, -0.3174507 , -0.13111959,  0.52941477,\n",
       "         -0.27396755, -0.28506155,  0.31818975,  0.31184186, -0.20863598],\n",
       "        [ 0.27998835,  0.56651335,  0.06608942,  0.49099178,  0.32705518,\n",
       "          0.08669968,  0.0299469 ,  0.2188255 ,  0.43576762, -0.04551528],\n",
       "        [-0.26067041,  0.60393633, -0.31463013, -0.34814376, -0.2933764 ,\n",
       "          0.13990114, -0.48796403, -0.00475967,  0.04710323, -0.03351631],\n",
       "        [ 0.33032717, -0.29856951, -0.0770817 ,  0.20600162, -0.06420083,\n",
       "          0.54690693, -0.46811616,  0.36926156, -0.27317329, -0.14150101],\n",
       "        [-0.24285712,  0.07750884,  0.85481496, -0.26184796,  0.21791268,\n",
       "          0.14219214, -0.22627233,  0.10412956, -0.01583027, -0.07577965]]))"
      ]
     },
     "execution_count": 14,
     "metadata": {},
     "output_type": "execute_result"
    }
   ],
   "source": [
    "from sklearn.decomposition import PCA\n",
    "check = PCA().fit(X)\n",
    "check.explained_variance_, check.components_.T"
   ]
  },
  {
   "cell_type": "code",
   "execution_count": null,
   "metadata": {},
   "outputs": [],
   "source": []
  },
  {
   "cell_type": "markdown",
   "metadata": {},
   "source": [
    "## Остальное - аналогично ноутбуку 3.1"
   ]
  },
  {
   "cell_type": "code",
   "execution_count": null,
   "metadata": {
    "id": "d3pTGnmHvTRW"
   },
   "outputs": [],
   "source": []
  }
 ],
 "metadata": {
  "colab": {
   "provenance": []
  },
  "kernelspec": {
   "display_name": "Python 3 (ipykernel)",
   "language": "python",
   "name": "python3"
  },
  "language_info": {
   "codemirror_mode": {
    "name": "ipython",
    "version": 3
   },
   "file_extension": ".py",
   "mimetype": "text/x-python",
   "name": "python",
   "nbconvert_exporter": "python",
   "pygments_lexer": "ipython3",
   "version": "3.9.12"
  }
 },
 "nbformat": 4,
 "nbformat_minor": 1
}
