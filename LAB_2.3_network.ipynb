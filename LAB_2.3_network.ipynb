{
 "cells": [
  {
   "cell_type": "markdown",
   "id": "ad62efe5",
   "metadata": {},
   "source": [
    "# Байесовская сеть"
   ]
  },
  {
   "cell_type": "code",
   "execution_count": null,
   "id": "b38240d5",
   "metadata": {},
   "outputs": [],
   "source": [
    "import numpy as np\n",
    "import pandas as pd\n",
    "import scipy\n",
    "\n",
    "import plotly.express as px\n",
    "import seaborn as sns\n",
    "%matplotlib notebook"
   ]
  },
  {
   "cell_type": "markdown",
   "id": "5220d322",
   "metadata": {},
   "source": [
    "## Подготовка данных"
   ]
  },
  {
   "cell_type": "code",
   "execution_count": null,
   "id": "d2b61b79",
   "metadata": {},
   "outputs": [],
   "source": [
    "df = pd.read_csv('data/raifhack_train.csv', \n",
    "    parse_dates=['date'], \n",
    "    usecols=lambda x: x not in ['floor']\n",
    ")"
   ]
  },
  {
   "cell_type": "code",
   "execution_count": null,
   "id": "0a68a31b",
   "metadata": {},
   "outputs": [],
   "source": [
    "is_expert = (df['price_type'] == 1)\n",
    "df = df[is_expert]"
   ]
  },
  {
   "cell_type": "code",
   "execution_count": null,
   "id": "5a5dc2e4",
   "metadata": {},
   "outputs": [],
   "source": [
    "for_test = df['date'].dt.month.isin([7, 8])\n",
    "df_train = df[ ~for_test ]\n",
    "df_test = df[ for_test ]"
   ]
  },
  {
   "cell_type": "code",
   "execution_count": null,
   "id": "61f98e73",
   "metadata": {},
   "outputs": [],
   "source": [
    "from sklearn.decomposition import PCA\n",
    "pca_columns = df_train.columns[df_train.columns.str.contains('.', regex=False)]\n",
    "\n",
    "df_pca = df_train.select_dtypes(include=np.number)\n",
    "df_pca = df_pca.loc[:, pca_columns]\n",
    "df_pca = df_pca.apply(np.log1p)\n",
    "df_pca = (df_pca - df_pca.mean()) / df_pca.std()\n",
    "df_pca = df_pca.fillna(df_pca.mean())\n",
    "\n",
    "pca = PCA()\n",
    "df_pca = pca.fit_transform(df_pca)"
   ]
  },
  {
   "cell_type": "code",
   "execution_count": null,
   "id": "a2aea24e",
   "metadata": {},
   "outputs": [],
   "source": [
    "def get_features(df):\n",
    "    df_features = pd.DataFrame()\n",
    "    \n",
    "#     no_transformation = [\n",
    "#         # тут ничего не осталось\n",
    "#     ]\n",
    "#     for i in no_transformation:\n",
    "#         df_features[i] = df[i].values\n",
    "    \n",
    "    log_features = [\n",
    "        'osm_city_closest_dist',\n",
    "        'osm_crossing_closest_dist',\n",
    "        'osm_subway_closest_dist',\n",
    "        #'osm_train_stop_closest_dist',\n",
    "        'osm_transport_stop_closest_dist',\n",
    "        'reform_mean_floor_count_1000',\n",
    "        'total_square',\n",
    "        # Целевую переменную тоже логарифмируем\n",
    "        'per_square_meter_price'\n",
    "    ]\n",
    "    for i in log_features:\n",
    "        df_features[f'log_{i}'] = df[i].apply(np.log1p).values\n",
    "    \n",
    "    df_features['pca_1'] = pca.transform(df[pca_columns]).T[0]\n",
    "    df_features['pca_1'] /= 100\n",
    "    \n",
    "    # Добавим только один бинарный признак про регионы,\n",
    "    # так модель получается лучше, чем все регионы\n",
    "    df_features['big_city'] = (\n",
    "        (df['region'] == 'Санкт-Петербург') |\n",
    "        (df['region'] == 'Москва')\n",
    "    ).astype(int).values\n",
    "        \n",
    "    return df_features\n",
    "\n",
    "df_train = df_train.pipe(get_features)\n",
    "df_test = df_test.pipe(get_features)\n",
    "\n",
    "df_train = df_train.fillna(df_train.mean())\n",
    "df_test = df_test.fillna(df_test.mean())"
   ]
  },
  {
   "cell_type": "code",
   "execution_count": null,
   "id": "6ecb1e54",
   "metadata": {},
   "outputs": [],
   "source": [
    "target_name = 'log_per_square_meter_price'\n",
    "\n",
    "X_train = df_train.drop(columns=[target_name])\n",
    "y_train = df_train[target_name]\n",
    "\n",
    "X_test = df_test.drop(columns=[target_name])\n",
    "y_test = df_test[target_name]"
   ]
  },
  {
   "cell_type": "code",
   "execution_count": null,
   "id": "2dc78b57",
   "metadata": {},
   "outputs": [],
   "source": []
  },
  {
   "cell_type": "markdown",
   "id": "c4001832",
   "metadata": {},
   "source": [
    "## Байесовская сеть"
   ]
  },
  {
   "cell_type": "code",
   "execution_count": null,
   "id": "63bc79e5",
   "metadata": {},
   "outputs": [],
   "source": [
    "import bamt\n",
    "from bamt.Networks import HybridBN\n",
    "from bamt.Preprocessors import Preprocessor\n",
    "from pgmpy.estimators import K2Score, BicScore, BDeuScore\n",
    "\n",
    "from sklearn.preprocessing import KBinsDiscretizer, LabelEncoder\n",
    "import networkx as nx"
   ]
  },
  {
   "cell_type": "markdown",
   "id": "6ef1fda5",
   "metadata": {},
   "source": [
    "**Дискретизация признаков**"
   ]
  },
  {
   "cell_type": "code",
   "execution_count": null,
   "id": "36707133",
   "metadata": {},
   "outputs": [],
   "source": [
    "encoder = LabelEncoder()\n",
    "discretizer = KBinsDiscretizer(\n",
    "    n_bins=5, \n",
    "    encode='ordinal', \n",
    "    strategy='kmeans', \n",
    "    random_state=0\n",
    ")\n",
    "\n",
    "prepro = Preprocessor([\n",
    "    ('encoder', encoder),\n",
    "    ('discretizer', discretizer),\n",
    "])\n",
    "df_train_discr, _ = prepro.apply(df_train)"
   ]
  },
  {
   "cell_type": "code",
   "execution_count": null,
   "id": "b694fb7e",
   "metadata": {},
   "outputs": [],
   "source": [
    "info = prepro.info\n",
    "info"
   ]
  },
  {
   "cell_type": "markdown",
   "id": "7f494c1d",
   "metadata": {},
   "source": [
    "## Обучаем сеть"
   ]
  },
  {
   "cell_type": "code",
   "execution_count": null,
   "id": "c1153366",
   "metadata": {},
   "outputs": [],
   "source": [
    "network = HybridBN(has_logit=True, use_mixture=True)"
   ]
  },
  {
   "cell_type": "code",
   "execution_count": null,
   "id": "d2d7219a",
   "metadata": {},
   "outputs": [],
   "source": [
    "network.add_nodes(info)"
   ]
  },
  {
   "cell_type": "code",
   "execution_count": null,
   "id": "ad18e107",
   "metadata": {},
   "outputs": [],
   "source": [
    "network.add_edges(df_train_discr, scoring_function=('K2', K2Score))\n",
    "# network.add_edges(df_train_discr, scoring_function=('BIC', BicScore))"
   ]
  },
  {
   "cell_type": "markdown",
   "id": "7e9eadd0",
   "metadata": {},
   "source": [
    "**Граф**"
   ]
  },
  {
   "cell_type": "code",
   "execution_count": null,
   "id": "044d3a27",
   "metadata": {},
   "outputs": [],
   "source": [
    "shorter_feature_names = {\n",
    "    'big_city': 'big\\ncity',\n",
    "    'log_osm_subway_closest_dist': 'subway\\ndist',\n",
    "    'log_per_square_meter_price': 'price',\n",
    "    'pca_1': 'pc\\n1',\n",
    "    'log_osm_city_closest_dist': 'city\\ndist',\n",
    "    'log_osm_crossing_closest_dist': 'cross\\ndist',\n",
    "    'log_total_square': 'total\\narea',\n",
    "    'log_reform_mean_floor_count_1000': 'mean\\nfloor',\n",
    "    'log_osm_transport_stop_closest_dist': 'stop\\ndist'\n",
    "}\n",
    "\n",
    "graph = nx.DiGraph()\n",
    "for a, b in network.edges:\n",
    "    graph.add_edge(shorter_feature_names[a], shorter_feature_names[b])\n",
    "\n",
    "nx.draw(\n",
    "    graph, \n",
    "    pos=nx.circular_layout(graph), \n",
    "    with_labels=True,\n",
    "    font_size=10,\n",
    "    node_size=2500,\n",
    "    node_color='white',\n",
    "    edge_color='lightgrey'\n",
    ")"
   ]
  },
  {
   "cell_type": "code",
   "execution_count": null,
   "id": "18a5d3c1",
   "metadata": {},
   "outputs": [],
   "source": [
    "%%time\n",
    "network.fit_parameters(df_train)"
   ]
  },
  {
   "cell_type": "markdown",
   "id": "878adff8",
   "metadata": {},
   "source": [
    "## Качество предсказаний"
   ]
  },
  {
   "cell_type": "code",
   "execution_count": null,
   "id": "e8f9d02f",
   "metadata": {},
   "outputs": [],
   "source": [
    "bn_insample_pred = network.predict(X_train, 5)\n",
    "bn_insample_pred = np.array(bn_insample_pred[target_name])"
   ]
  },
  {
   "cell_type": "code",
   "execution_count": null,
   "id": "a812b187",
   "metadata": {},
   "outputs": [],
   "source": [
    "fig = px.scatter(\n",
    "    x=bn_insample_pred, \n",
    "    y=y_train, \n",
    "    trendline='ols',\n",
    "    template='plotly_white',\n",
    "    trendline_color_override='lightgrey'\n",
    ")\n",
    "\n",
    "fig.update_layout(xaxis_title='y_pred', yaxis_title='y_true')\n",
    "fig.data[0].marker.size=3\n",
    "\n",
    "fig.show()"
   ]
  },
  {
   "cell_type": "code",
   "execution_count": null,
   "id": "b70898b0",
   "metadata": {},
   "outputs": [],
   "source": [
    "bn_pred = network.predict(X_test, 5)"
   ]
  },
  {
   "cell_type": "code",
   "execution_count": null,
   "id": "907327f7",
   "metadata": {},
   "outputs": [],
   "source": [
    "fig = px.scatter(\n",
    "    x=bn_pred['log_per_square_meter_price'], \n",
    "    y=y_test, \n",
    "    trendline='ols',\n",
    "    template='plotly_white',\n",
    "    trendline_color_override='lightgrey'\n",
    ")\n",
    "\n",
    "fig.update_layout(xaxis_title='y_pred', yaxis_title='y_true')\n",
    "fig.data[0].marker.size=3\n",
    "\n",
    "fig.show()"
   ]
  },
  {
   "cell_type": "code",
   "execution_count": null,
   "id": "4d61b8d5",
   "metadata": {},
   "outputs": [],
   "source": []
  },
  {
   "cell_type": "markdown",
   "id": "7b373f37",
   "metadata": {},
   "source": [
    "## Доверительный интервал"
   ]
  },
  {
   "cell_type": "markdown",
   "id": "8f85686f",
   "metadata": {},
   "source": [
    "**Считаем число параметров**"
   ]
  },
  {
   "cell_type": "code",
   "execution_count": null,
   "id": "2beb9b8b",
   "metadata": {},
   "outputs": [],
   "source": [
    "def _get_num_params(a):\n",
    "    return (\n",
    "        np.array(a['covars']).size +\n",
    "        np.array(a['mean']).size + \n",
    "        np.array(a['coef']).size\n",
    "    )\n",
    "\n",
    "n_net_params = sum(\n",
    "    _get_num_params(a)\n",
    "    for a in network.distributions[target_name]['hybcprob'].values()\n",
    ")\n",
    "n_net_params\n",
    "\n",
    "# a = network.distributions[target_name]\n",
    "# n_net_params = _get_num_params(a)\n",
    "# n_net_params"
   ]
  },
  {
   "cell_type": "code",
   "execution_count": null,
   "id": "ffa4a06a",
   "metadata": {},
   "outputs": [],
   "source": []
  },
  {
   "cell_type": "code",
   "execution_count": null,
   "id": "98f3b8f7",
   "metadata": {},
   "outputs": [],
   "source": [
    "def get_error(x_new):\n",
    "    # число наблюдений\n",
    "    n = len(X_train)\n",
    "    # число параметров\n",
    "    k = int(n_net_params)\n",
    "    x = X_train.values\n",
    "    # матричные операции\n",
    "    inv = np.linalg.inv(np.dot(x.T, x))\n",
    "    a = np.sqrt(np.dot(\n",
    "        np.dot(x_new, inv),\n",
    "        x_new\n",
    "    ))\n",
    "    # MSE\n",
    "    mse = np.square(bn_insample_pred - y_train).mean()**0.5 \n",
    "    mse *= np.sqrt( n/(n-k) )\n",
    "    # распределение Стьюдента\n",
    "    t = scipy.stats.t.ppf(1-0.05/2, n-2)\n",
    "    \n",
    "    return a * mse * abs(t)"
   ]
  },
  {
   "cell_type": "code",
   "execution_count": null,
   "id": "b2d52d25",
   "metadata": {},
   "outputs": [],
   "source": [
    "df_confidence_interval = pd.DataFrame()\n",
    "\n",
    "df_confidence_interval['y_true'] = y_test\n",
    "df_confidence_interval['y_pred'] = bn_pred['log_per_square_meter_price']\n",
    "# считаем длину доверительного интервала\n",
    "df_confidence_interval['error'] = [\n",
    "    get_error(x_new)\n",
    "    for x_new in X_test.values\n",
    "]"
   ]
  },
  {
   "cell_type": "markdown",
   "id": "f568fc84",
   "metadata": {},
   "source": [
    "**Графики доверительных интервалов**"
   ]
  },
  {
   "cell_type": "code",
   "execution_count": null,
   "id": "c74e3ca1",
   "metadata": {},
   "outputs": [],
   "source": [
    "x_var_error_bar_plot = 'log_total_square'\n",
    "fig = px.scatter(\n",
    "    (\n",
    "        df_confidence_interval\n",
    "        .assign(x=X_test[x_var_error_bar_plot])\n",
    "        # выберем точки равномерно по оси x\n",
    "        .sort_values('x')\n",
    "        .iloc[::10]\n",
    "    ), \n",
    "    x='x', \n",
    "    y='y_pred',\n",
    "    error_y='error',\n",
    "    template='plotly_white'\n",
    ")\n",
    "fig.update_layout(xaxis_title=x_var_error_bar_plot)\n",
    "fig.data[0].marker.size=1\n",
    "fig.show()"
   ]
  },
  {
   "cell_type": "code",
   "execution_count": null,
   "id": "4ebb4894",
   "metadata": {},
   "outputs": [],
   "source": [
    "X_test.columns"
   ]
  },
  {
   "cell_type": "code",
   "execution_count": null,
   "id": "7084e8fc",
   "metadata": {},
   "outputs": [],
   "source": []
  },
  {
   "cell_type": "code",
   "execution_count": null,
   "id": "bd761662",
   "metadata": {},
   "outputs": [],
   "source": []
  }
 ],
 "metadata": {
  "kernelspec": {
   "display_name": "Python 3 (ipykernel)",
   "language": "python",
   "name": "python3"
  },
  "language_info": {
   "codemirror_mode": {
    "name": "ipython",
    "version": 3
   },
   "file_extension": ".py",
   "mimetype": "text/x-python",
   "name": "python",
   "nbconvert_exporter": "python",
   "pygments_lexer": "ipython3",
   "version": "3.9.12"
  }
 },
 "nbformat": 4,
 "nbformat_minor": 5
}
