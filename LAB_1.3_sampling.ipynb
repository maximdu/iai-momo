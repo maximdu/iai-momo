{
 "cells": [
  {
   "cell_type": "code",
   "execution_count": null,
   "id": "af6a2004",
   "metadata": {},
   "outputs": [],
   "source": [
    "# Вычисления\n",
    "import numpy as np\n",
    "import pandas as pd\n",
    "import scipy\n",
    "# Визуализация\n",
    "import plotly.express as px\n",
    "import plotly.graph_objects as go\n",
    "import seaborn as sns\n",
    "%matplotlib notebook"
   ]
  },
  {
   "cell_type": "markdown",
   "id": "83197bc6",
   "metadata": {},
   "source": [
    "**Центральная предельная теорема**"
   ]
  },
  {
   "cell_type": "code",
   "execution_count": null,
   "id": "2ea1650b",
   "metadata": {},
   "outputs": [],
   "source": [
    "def clt_generator(size=10_000, n_layers=20, mean=0, std=1):\n",
    "    # Генерируем матрицу случайных чисел\n",
    "    clt = np.random.uniform(0, 1, (n_layers, 10_000))\n",
    "    # Суммируем по столбцам\n",
    "    clt = np.sum(clt, axis=0)\n",
    "    # Нормализация\n",
    "    clt = np.sqrt(12/n_layers) * (clt - n_layers/2)\n",
    "    # Добавляем параметры распределения\n",
    "    clt = (clt * std) + mean\n",
    "    return clt"
   ]
  },
  {
   "cell_type": "code",
   "execution_count": null,
   "id": "cd47ea6f",
   "metadata": {},
   "outputs": [],
   "source": [
    "fig = px.histogram( \n",
    "    clt_generator(n_layers=20, mean=10, std=2),\n",
    "    template='plotly_white',\n",
    "    nbins=25\n",
    ")\n",
    "fig.data[0].showlegend=False\n",
    "fig.layout.margin.t=0;fig.layout.margin.b=0;\n",
    "fig.layout.margin.l=0;fig.layout.margin.r=0;\n",
    "fig.show()"
   ]
  },
  {
   "cell_type": "code",
   "execution_count": null,
   "id": "8e519850",
   "metadata": {},
   "outputs": [],
   "source": []
  },
  {
   "cell_type": "markdown",
   "id": "48eec11a",
   "metadata": {},
   "source": [
    "**Метод обратной функции**"
   ]
  },
  {
   "cell_type": "code",
   "execution_count": null,
   "id": "71eb466c",
   "metadata": {},
   "outputs": [],
   "source": [
    "def sample_triangular_distr(a, b, c, size=100_000):\n",
    "    y = np.random.uniform(0, 1, size)\n",
    "    # np.where быстрее, чем if-else\n",
    "    return np.where(\n",
    "        y <= (c-a)/(b-a),\n",
    "        a + np.sqrt(y*(b-a)*(c-a)),\n",
    "        b - np.sqrt((b-a)*(b-c)*(1-y))\n",
    "    )"
   ]
  },
  {
   "cell_type": "code",
   "execution_count": null,
   "id": "3d036873",
   "metadata": {},
   "outputs": [],
   "source": [
    "fig = px.histogram( \n",
    "    sample_triangular_distr(a=1, b=5, c=2),\n",
    "    template='plotly_white',\n",
    "    nbins=50\n",
    ")\n",
    "fig.data[0].showlegend=False\n",
    "fig.layout.margin.t=0;fig.layout.margin.b=0;\n",
    "fig.layout.margin.l=0;fig.layout.margin.r=0;\n",
    "fig.show()"
   ]
  },
  {
   "cell_type": "code",
   "execution_count": null,
   "id": "0c22bbe7",
   "metadata": {},
   "outputs": [],
   "source": []
  },
  {
   "cell_type": "markdown",
   "id": "2010bc30",
   "metadata": {},
   "source": [
    "**Метод Accept-Reject**"
   ]
  },
  {
   "cell_type": "code",
   "execution_count": null,
   "id": "5bd44ed9",
   "metadata": {},
   "outputs": [],
   "source": [
    "def accept_reject_sampling(theory_distr_with_params, x_min, x_max, max_pdf=1, size=10_000):\n",
    "    rand_x = np.random.uniform(x_min, x_max, 10_000)\n",
    "    rand_y = np.random.uniform(0, max_pdf, 10_000)\n",
    "    is_lower = rand_y < theory_distr_with_params.pdf(rand_x)\n",
    "    return rand_x[is_lower]"
   ]
  },
  {
   "cell_type": "code",
   "execution_count": null,
   "id": "abe3f509",
   "metadata": {},
   "outputs": [],
   "source": [
    "rand_x = np.random.uniform(-3.5, 3.5, 10_000)\n",
    "rand_y = np.random.uniform(0, 0.45, 10_000)\n",
    "is_lower = rand_y < scipy.stats.norm.pdf(rand_x)"
   ]
  },
  {
   "cell_type": "code",
   "execution_count": null,
   "id": "e2a087df",
   "metadata": {},
   "outputs": [],
   "source": [
    "fig = px.scatter(x=rand_x, y=rand_y, \n",
    "                 color=is_lower.astype(int), template='plotly_white', color_continuous_scale=['red', 'blue'])\n",
    "\n",
    "fig.add_traces(go.Scatter(\n",
    "    x=np.linspace(-3.5, 3.5, 1000),\n",
    "    y=scipy.stats.norm.pdf(np.linspace(-3.5, 3.5, 1000)),\n",
    "    line_color='black'\n",
    "))\n",
    "\n",
    "fig.data[0].marker.size=3\n",
    "fig.show()"
   ]
  },
  {
   "cell_type": "code",
   "execution_count": null,
   "id": "41db8bed",
   "metadata": {},
   "outputs": [],
   "source": [
    "px.histogram( rand_x[is_lower] )"
   ]
  },
  {
   "cell_type": "code",
   "execution_count": null,
   "id": "c3c9ccfa",
   "metadata": {},
   "outputs": [],
   "source": []
  },
  {
   "cell_type": "code",
   "execution_count": null,
   "id": "8079cad1",
   "metadata": {},
   "outputs": [],
   "source": []
  }
 ],
 "metadata": {
  "kernelspec": {
   "display_name": "Python 3 (ipykernel)",
   "language": "python",
   "name": "python3"
  },
  "language_info": {
   "codemirror_mode": {
    "name": "ipython",
    "version": 3
   },
   "file_extension": ".py",
   "mimetype": "text/x-python",
   "name": "python",
   "nbconvert_exporter": "python",
   "pygments_lexer": "ipython3",
   "version": "3.9.12"
  }
 },
 "nbformat": 4,
 "nbformat_minor": 5
}
