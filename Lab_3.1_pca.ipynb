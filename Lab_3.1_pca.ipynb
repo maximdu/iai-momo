{
 "cells": [
  {
   "cell_type": "code",
   "execution_count": null,
   "metadata": {
    "id": "e30_rjrAY3BB"
   },
   "outputs": [],
   "source": [
    "# Обработка данных\n",
    "import numpy as np\n",
    "from numpy.polynomial import Polynomial\n",
    "import pandas as pd\n",
    "from os import listdir\n",
    "# Визуализация\n",
    "import plotly.express as px\n",
    "import plotly.io as pio\n",
    "pio.templates.default = 'plotly_white'"
   ]
  },
  {
   "cell_type": "markdown",
   "metadata": {
    "id": "VOdcpigpZ47t"
   },
   "source": [
    "## Метод сингуляного разложения"
   ]
  },
  {
   "cell_type": "code",
   "execution_count": null,
   "metadata": {
    "id": "OVXSpfncZzZx"
   },
   "outputs": [],
   "source": [
    "import lab3"
   ]
  },
  {
   "cell_type": "markdown",
   "metadata": {
    "id": "tLZhwKfwZ-Mn"
   },
   "source": [
    "## Выбор данных"
   ]
  },
  {
   "cell_type": "markdown",
   "metadata": {
    "id": "W1fA_XZZaB09"
   },
   "source": [
    "Источник: https://data.worldbank.org/indicator\n",
    "\n",
    "Мотивация: сжатие данных позволит выделить основные характеристики стран\n",
    "\n",
    "Гипотеза: первая главная компонента будет соответствовать развитости страны"
   ]
  },
  {
   "cell_type": "code",
   "execution_count": null,
   "metadata": {
    "id": "lxPZkdM8Z0je"
   },
   "outputs": [],
   "source": [
    "DATA_DIR = 'data/world_bank_data/'"
   ]
  },
  {
   "cell_type": "code",
   "execution_count": null,
   "metadata": {
    "id": "Twd76J0WZ0l2"
   },
   "outputs": [],
   "source": [
    "def read_data(path):\n",
    "    df = pd.DataFrame()\n",
    "    for file in sorted(listdir(path)):\n",
    "        # Читаем файл\n",
    "        series = pd.read_excel(\n",
    "            DATA_DIR+file, \n",
    "            skiprows=3,\n",
    "            # Индексом используем код страны,\n",
    "            # потому что он используется для карты\n",
    "            index_col='Country Code'\n",
    "        )\n",
    "        # Берем среднее за 2017-2019 год, преимущества:\n",
    "        # 1) Меньше пропущенных значений\n",
    "        # 2) Небольшое сглаживание \n",
    "        series = series.loc[:, '2017':'2019'].mean(axis=1)\n",
    "        df[file] = series\n",
    "    df.columns = df.columns.str.replace('.xls', '', regex=False)\n",
    "    return df"
   ]
  },
  {
   "cell_type": "code",
   "execution_count": null,
   "metadata": {
    "colab": {
     "base_uri": "https://localhost:8080/"
    },
    "id": "iybdNaJZZ0oZ",
    "outputId": "8048afe0-e9c6-4af0-8eea-2f52d137cab4"
   },
   "outputs": [],
   "source": [
    "sorted(listdir(DATA_DIR))"
   ]
  },
  {
   "cell_type": "markdown",
   "metadata": {
    "id": "iX3shmFtc642"
   },
   "source": [
    "Использованные признаки:\n",
    "\n",
    "* ВВП на душу по покупательной способности\n",
    "* Ожидаемая продолжительность жизни\n",
    "* Процент городского населения\n",
    "* Общая рождаемость\n",
    "* Рост населения, %\n",
    "* Рождаемость среди подростков (15-19)\n",
    "* Процент занятых в сельском хозяйстве\n",
    "* Процент занятых в промышленности\n",
    "* Население младше 14, %\n",
    "* Население старше 65, %\n",
    "\n"
   ]
  },
  {
   "cell_type": "code",
   "execution_count": null,
   "metadata": {
    "id": "bzKsGUGxZ0q9"
   },
   "outputs": [],
   "source": [
    "df = read_data(DATA_DIR)"
   ]
  },
  {
   "cell_type": "code",
   "execution_count": null,
   "metadata": {
    "id": "k8uwNi3UZ0tL"
   },
   "outputs": [],
   "source": [
    "# Так как пропуски неслучайные, их просто удалим\n",
    "df = df.dropna()"
   ]
  },
  {
   "cell_type": "code",
   "execution_count": null,
   "metadata": {
    "colab": {
     "base_uri": "https://localhost:8080/"
    },
    "id": "pprgLmDNZ0vu",
    "outputId": "2e690cba-7feb-4177-e928-24115efde041"
   },
   "outputs": [],
   "source": [
    "df.shape"
   ]
  },
  {
   "cell_type": "code",
   "execution_count": null,
   "metadata": {
    "id": "0XKjhhZBZ0yA"
   },
   "outputs": [],
   "source": [
    "# Часть зависимостей получалась нелинейной, для них применим логарифм\n",
    "df['GDP per capita PPP'] = df['GDP per capita PPP'].apply(np.log)\n",
    "df['Population ages 65+'] = df['Population ages 65+'].apply(np.log)"
   ]
  },
  {
   "cell_type": "code",
   "execution_count": null,
   "metadata": {
    "colab": {
     "base_uri": "https://localhost:8080/",
     "height": 767
    },
    "id": "Mf7jZn2jeBLY",
    "outputId": "152c4ee3-07c0-4a11-b431-9816f2e8b26c"
   },
   "outputs": [],
   "source": [
    "# Посмотрим на попарные графики\n",
    "fig = px.scatter_matrix(df)\n",
    "fig.update_traces(\n",
    "    diagonal_visible=False,\n",
    "    marker_size=2.5\n",
    ")\n",
    "fig.update_layout(font_size=1, height=750)\n",
    "fig.show()"
   ]
  },
  {
   "cell_type": "markdown",
   "metadata": {
    "id": "T7VGTI_mft3c"
   },
   "source": [
    "На графиках видны линейные связи почти для всех пар, поэтому можно ожидать большую значимость первой компоненты"
   ]
  },
  {
   "cell_type": "code",
   "execution_count": null,
   "metadata": {
    "id": "arD05LuceBNx"
   },
   "outputs": [],
   "source": [
    "# Нормализация\n",
    "# Вычесть среднее нужно для разложения\n",
    "# Деление на std убирает разницу единиц измерения\n",
    "df_norm = (df - df.mean()) / df.std()"
   ]
  },
  {
   "cell_type": "code",
   "execution_count": null,
   "metadata": {
    "id": "bFmulm_4eBP8"
   },
   "outputs": [],
   "source": []
  },
  {
   "cell_type": "code",
   "execution_count": null,
   "metadata": {
    "id": "GLhA_FTyeBSw"
   },
   "outputs": [],
   "source": []
  },
  {
   "cell_type": "markdown",
   "metadata": {
    "id": "JiJOBvmZgQZF"
   },
   "source": [
    "## Применение PCA"
   ]
  },
  {
   "cell_type": "code",
   "execution_count": null,
   "metadata": {
    "id": "QNWvtmd_eBUt"
   },
   "outputs": [],
   "source": [
    "def cov(X):\n",
    "    return np.dot(X, X.T) / (X.shape[1] - 1)"
   ]
  },
  {
   "cell_type": "code",
   "execution_count": null,
   "metadata": {
    "id": "pqapiHXseBWx"
   },
   "outputs": [],
   "source": [
    "X = df_norm.values\n",
    "cov_matrix = cov(X.T)"
   ]
  },
  {
   "cell_type": "code",
   "execution_count": null,
   "metadata": {
    "colab": {
     "base_uri": "https://localhost:8080/"
    },
    "id": "OxXax5RteBZN",
    "outputId": "828273fe-3055-4545-8472-8058d9a9172b"
   },
   "outputs": [],
   "source": [
    "%%time\n",
    "np.random.seed(0)\n",
    "eigen_values, eigen_vectors = lab3.get_eigen(cov_matrix)"
   ]
  },
  {
   "cell_type": "code",
   "execution_count": null,
   "metadata": {
    "id": "9TCTWQHsgXsW"
   },
   "outputs": [],
   "source": [
    "# Работает достаточно быстро, хотя и размер матрицы небольшой"
   ]
  },
  {
   "cell_type": "markdown",
   "metadata": {
    "id": "ZFhJNaSrgqU-"
   },
   "source": [
    "**Проценты объясненной дисперсии**"
   ]
  },
  {
   "cell_type": "code",
   "execution_count": null,
   "metadata": {
    "colab": {
     "base_uri": "https://localhost:8080/"
    },
    "id": "_AtpsMIegXvG",
    "outputId": "55d5b9c7-1c6c-498b-e46f-b7bb3c565fa8"
   },
   "outputs": [],
   "source": [
    "eigen_values"
   ]
  },
  {
   "cell_type": "code",
   "execution_count": null,
   "metadata": {
    "id": "7MEmYwfMgXxN"
   },
   "outputs": [],
   "source": [
    "explained_variance_ratio = eigen_values / eigen_values.sum()"
   ]
  },
  {
   "cell_type": "code",
   "execution_count": null,
   "metadata": {
    "colab": {
     "base_uri": "https://localhost:8080/",
     "height": 542
    },
    "id": "0udyuFEKgXz4",
    "outputId": "c79da82e-d391-4b1a-8686-1bb3aaf68013"
   },
   "outputs": [],
   "source": [
    "# Проценты объясненной дисперсии по компонентам\n",
    "fig = px.bar(explained_variance_ratio*100)\n",
    "fig.show()"
   ]
  },
  {
   "cell_type": "markdown",
   "metadata": {
    "id": "N63XTKLag9rx"
   },
   "source": [
    "Первая компонента объясняет 73% общей вариации"
   ]
  },
  {
   "cell_type": "code",
   "execution_count": null,
   "metadata": {
    "colab": {
     "base_uri": "https://localhost:8080/",
     "height": 542
    },
    "id": "UNKnDPU0gX2K",
    "outputId": "3ce0c53d-1203-4cdc-f19e-dbd227f3b629"
   },
   "outputs": [],
   "source": [
    "# Накопленные значения объясненной вариации\n",
    "fig = px.line(explained_variance_ratio.cumsum()*100)\n",
    "fig.update_traces(mode='lines+markers')\n",
    "fig.show()"
   ]
  },
  {
   "cell_type": "markdown",
   "metadata": {
    "id": "0m9lAwhCqGCC"
   },
   "source": [
    "Первые 3 компоненты объясняют почти 90% общей вариации, 5 компонент объясняют 95%\n",
    "\n",
    "3-5 компонент, скорее всего, будет достаточно\n",
    "\n",
    "Хотя первая содержит б**о**льшую часть информации, и можно использовать даже её одну"
   ]
  },
  {
   "cell_type": "markdown",
   "metadata": {
    "id": "6lbgcsM0hW8K"
   },
   "source": [
    "**Матрица трансформаций**"
   ]
  },
  {
   "cell_type": "code",
   "execution_count": null,
   "metadata": {
    "id": "CjPiVXiugX43"
   },
   "outputs": [],
   "source": [
    "# Применяем трансформацию\n",
    "X_transformed = np.dot(X, eigen_vectors.T)\n",
    "df_transformed = pd.DataFrame(\n",
    "    X_transformed,\n",
    "    index=df.index\n",
    ")\n",
    "# Переименуем колонки с главными компонентами\n",
    "df_transformed.columns = 'PC ' + (df_transformed.columns + 1).astype(str)"
   ]
  },
  {
   "cell_type": "code",
   "execution_count": null,
   "metadata": {
    "id": "7sFc7k9TgX7U"
   },
   "outputs": [],
   "source": [
    "original_features = df.columns.values\n",
    "pc_names = df_transformed.columns.values"
   ]
  },
  {
   "cell_type": "code",
   "execution_count": null,
   "metadata": {
    "id": "moxsgwsnhVok"
   },
   "outputs": [],
   "source": [
    "# Объединяем признаки и главные компоненты\n",
    "df_all = pd.concat([df, df_transformed], axis=1)"
   ]
  },
  {
   "cell_type": "code",
   "execution_count": null,
   "metadata": {
    "id": "Vb7aVhGehVrJ"
   },
   "outputs": [],
   "source": []
  },
  {
   "cell_type": "markdown",
   "metadata": {
    "id": "TLiG9e7ClsV4"
   },
   "source": [
    "## Интерпретация и визуализация"
   ]
  },
  {
   "cell_type": "code",
   "execution_count": null,
   "metadata": {
    "colab": {
     "base_uri": "https://localhost:8080/",
     "height": 767
    },
    "id": "pZ6pY4hUiRo0",
    "outputId": "41ec58f4-dbe6-4bf9-ba79-b73d9eae1023"
   },
   "outputs": [],
   "source": [
    "# График первых 3 главных компонент\n",
    "fig = px.scatter_3d(\n",
    "    df_all, \n",
    "    x='PC 1',\n",
    "    y='PC 2',\n",
    "    z='PC 3',\n",
    "    color='Life expectancy',\n",
    "    hover_name=df_transformed.index\n",
    ")\n",
    "fig.update_layout(margin_t=0, margin_b=0, \n",
    "                  margin_l=0, margin_r=0,\n",
    "                  height=750)\n",
    "fig.show()"
   ]
  },
  {
   "cell_type": "code",
   "execution_count": null,
   "metadata": {
    "id": "WSTg8lz_iR07"
   },
   "outputs": [],
   "source": []
  },
  {
   "cell_type": "code",
   "execution_count": null,
   "metadata": {
    "colab": {
     "base_uri": "https://localhost:8080/",
     "height": 767
    },
    "id": "PF2oJ_8thVto",
    "outputId": "a29f66cf-f860-4017-acad-e8e1c485efdb"
   },
   "outputs": [],
   "source": [
    "# Первая компонента на карте\n",
    "fig = px.choropleth(df_transformed, \n",
    "                    locations=df.index,\n",
    "                    color='PC 1',\n",
    "                    hover_name=df.index,\n",
    "                    projection='miller',\n",
    "                    scope='world',\n",
    "                    color_continuous_scale=['blue', 'lightblue', 'white', 'pink', 'red'])\n",
    "\n",
    "fig.update_layout(margin_t=0, margin_b=0, \n",
    "                  margin_l=0, margin_r=0,\n",
    "                  height=750)\n",
    "fig.show()"
   ]
  },
  {
   "cell_type": "markdown",
   "metadata": {
    "id": "xGlbrpDHtjqZ"
   },
   "source": [
    "Как и ожидалось, первую компоненту можно интерпретировать как общий уровень развития страны"
   ]
  },
  {
   "cell_type": "code",
   "execution_count": null,
   "metadata": {
    "colab": {
     "base_uri": "https://localhost:8080/",
     "height": 767
    },
    "id": "LdEiDkPKhVwF",
    "outputId": "56e9b835-a463-4a2b-8913-6445ae5ed65f"
   },
   "outputs": [],
   "source": [
    "# Вторая компонента на карте\n",
    "fig = px.choropleth(df_transformed, \n",
    "                    locations=df.index,\n",
    "                    color='PC 2',\n",
    "                    hover_name=df.index,\n",
    "                    projection='miller',\n",
    "                    scope='world',\n",
    "                    color_continuous_scale=['blue', 'lightblue', 'white', 'pink', 'red'][::-1])\n",
    "\n",
    "fig.update_layout(margin_t=0, margin_b=0, \n",
    "                  margin_l=0, margin_r=0,\n",
    "                  height=750)\n",
    "fig.show()"
   ]
  },
  {
   "cell_type": "markdown",
   "metadata": {
    "id": "Ueai8rvEtvkK"
   },
   "source": [
    "Вторую компоненту уже сложнее интерпретировать, не придумал ей название"
   ]
  },
  {
   "cell_type": "code",
   "execution_count": null,
   "metadata": {
    "id": "iEQJPbrQp9vw"
   },
   "outputs": [],
   "source": []
  },
  {
   "cell_type": "code",
   "execution_count": null,
   "metadata": {
    "id": "pgTX3t5XhV08"
   },
   "outputs": [],
   "source": [
    "# Корреляции признаков и главных компонент\n",
    "corr = df_all.corr().loc[original_features, pc_names]"
   ]
  },
  {
   "cell_type": "code",
   "execution_count": null,
   "metadata": {
    "colab": {
     "base_uri": "https://localhost:8080/",
     "height": 767
    },
    "id": "vHe9-JDLeBcP",
    "outputId": "e2b23181-fa0e-43b0-f45a-dffbe7af8f00"
   },
   "outputs": [],
   "source": [
    "# Точки обозначают признаки, \n",
    "# их координаты - корреляции признака \n",
    "# с первой и второй компонентами соответственно\n",
    "fig = px.scatter(\n",
    "    corr, \n",
    "    x='PC 1', \n",
    "    y='PC 2', \n",
    "    text=corr.index, \n",
    "    )\n",
    "fig.update_traces(textposition='top center')\n",
    "fig.update_layout(height=750)\n",
    "fig.update_xaxes(showgrid=False)\n",
    "fig.update_yaxes(showgrid=False)\n",
    "fig.show()"
   ]
  },
  {
   "cell_type": "markdown",
   "metadata": {
    "id": "00lO0gIosL_a"
   },
   "source": [
    "По первой главной компоненте признаки явно делятся на две группы: с положительной и отрицательной корреляцией\n",
    "\n",
    "К первой группе признаков относятся ВВП на душу, продолжительность жизни и процент людей старше 65, процент живущих в городах и занятых в промышленности\n",
    "\n",
    "Ко второй относятся процент занятых в сельском хозяйстве, показатели рождаемости и рост населения"
   ]
  },
  {
   "cell_type": "code",
   "execution_count": null,
   "metadata": {
    "id": "00XLKRxFr_14"
   },
   "outputs": [],
   "source": []
  },
  {
   "cell_type": "code",
   "execution_count": null,
   "metadata": {
    "colab": {
     "base_uri": "https://localhost:8080/",
     "height": 767
    },
    "id": "-LSejOSAkH9b",
    "outputId": "24a58ac6-1b21-4242-f7b5-79aa565376f2"
   },
   "outputs": [],
   "source": [
    "fig = px.scatter(\n",
    "    corr, \n",
    "    x='PC 3', \n",
    "    y='PC 4', \n",
    "    text=corr.index, \n",
    "    )\n",
    "fig.update_traces(textposition='top center')\n",
    "fig.update_layout(height=750)\n",
    "fig.update_xaxes(showgrid=False)\n",
    "fig.update_yaxes(showgrid=False)\n",
    "fig.show()"
   ]
  },
  {
   "cell_type": "markdown",
   "metadata": {
    "id": "p6m2__UFuN-f"
   },
   "source": [
    "Третья компонента сильно связана с процентом занятых в промышленности\n",
    "\n",
    "Видимо, это связано с арабскими странами, такими как ОАЭ и Катар\n",
    "\n",
    "(они также выделяются на графике первых 3 главных компонент)"
   ]
  },
  {
   "cell_type": "code",
   "execution_count": null,
   "metadata": {
    "id": "TAOd0-rdkH_6"
   },
   "outputs": [],
   "source": []
  },
  {
   "cell_type": "markdown",
   "metadata": {
    "id": "hlzR_7ZOJzGC"
   },
   "source": [
    "## Ограничения метода"
   ]
  },
  {
   "cell_type": "markdown",
   "metadata": {
    "id": "u1Tc1TVGJ3pK"
   },
   "source": [
    "Недостаток метода главных компонент в целом:\n",
    "\n",
    "используются только линейные зависимости, в данной задачи получилось просто использовать логарифм\n",
    "\n",
    "(хотя есть нелинейный вариант с применением ядер)\n",
    "\n",
    "-----\n",
    "\n",
    "Недостатки SVD:\n",
    "* Хуже работает с разреженными матрицами (для них есть отдельные функции в пакетах)\n",
    "\n",
    "* Не очень быстро работает на больших объемах (метод Якоби работает за $O(n^3)$ за шаг). Scikit-learn использует [power method](https://https://en.wikipedia.org/wiki/Power_iteration)\n",
    "\n",
    "----\n",
    "Мой вариант (отдельно искать коэффициенты и решать полином) начинает плохо сходиться, если увеличить число признаков. Можно попробовать @retry, пока не экспериментировал"
   ]
  },
  {
   "cell_type": "code",
   "execution_count": null,
   "metadata": {
    "id": "yKObyhkIJ3Cp"
   },
   "outputs": [],
   "source": []
  },
  {
   "cell_type": "code",
   "execution_count": null,
   "metadata": {
    "id": "d3pTGnmHvTRW"
   },
   "outputs": [],
   "source": []
  }
 ],
 "metadata": {
  "colab": {
   "provenance": []
  },
  "kernelspec": {
   "display_name": "Python 3 (ipykernel)",
   "language": "python",
   "name": "python3"
  },
  "language_info": {
   "codemirror_mode": {
    "name": "ipython",
    "version": 3
   },
   "file_extension": ".py",
   "mimetype": "text/x-python",
   "name": "python",
   "nbconvert_exporter": "python",
   "pygments_lexer": "ipython3",
   "version": "3.9.12"
  }
 },
 "nbformat": 4,
 "nbformat_minor": 1
}
