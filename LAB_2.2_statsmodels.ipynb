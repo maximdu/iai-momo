{
 "cells": [
  {
   "cell_type": "markdown",
   "id": "aaf3542b",
   "metadata": {},
   "source": [
    "# Ноутбук для линейной модели"
   ]
  },
  {
   "cell_type": "code",
   "execution_count": null,
   "id": "59401559",
   "metadata": {},
   "outputs": [],
   "source": [
    "import numpy as np\n",
    "import pandas as pd\n",
    "pd.options.mode.use_inf_as_na = True\n",
    "\n",
    "import statsmodels.api as sm\n",
    "import statsmodels.formula.api as smf\n",
    "\n",
    "import scipy\n",
    "\n",
    "import plotly.express as px\n",
    "import plotly.graph_objects as go\n",
    "import seaborn as sns\n",
    "%matplotlib notebook\n",
    "\n",
    "from sklearn.metrics import r2_score"
   ]
  },
  {
   "cell_type": "code",
   "execution_count": null,
   "id": "e5ed26ec",
   "metadata": {},
   "outputs": [],
   "source": [
    "df = pd.read_csv('data/raifhack_train.csv', \n",
    "    parse_dates=['date'], \n",
    "    usecols=lambda x: x not in ['floor']\n",
    ")"
   ]
  },
  {
   "cell_type": "code",
   "execution_count": null,
   "id": "6ab7a1d9",
   "metadata": {},
   "outputs": [],
   "source": [
    "# Есть 2 типа оценок: \n",
    "# 0 = из парсинга объявлений\n",
    "# 1 = экспертные оценки\n",
    "# Цены из объявлений содержат много шума, поэтому берем экспертные\n",
    "# + Экспертных оценок меньше (около 5000), меньше времени на обучение\n",
    "is_expert = (df['price_type'] == 1)\n",
    "df = df[is_expert]"
   ]
  },
  {
   "cell_type": "code",
   "execution_count": null,
   "id": "519e6059",
   "metadata": {},
   "outputs": [],
   "source": []
  },
  {
   "cell_type": "markdown",
   "id": "1b33b4af",
   "metadata": {},
   "source": [
    "## Разделение на тренировочную и тестовую выборку"
   ]
  },
  {
   "cell_type": "code",
   "execution_count": null,
   "id": "022820cc",
   "metadata": {},
   "outputs": [],
   "source": [
    "split_by = df['date'].dt.month\n",
    "month_count = split_by.value_counts(normalize=True)\n",
    "month_count.sort_index().round(3) * 100"
   ]
  },
  {
   "cell_type": "code",
   "execution_count": null,
   "id": "4d35e837",
   "metadata": {},
   "outputs": [],
   "source": [
    "for_test = df['date'].dt.month.isin([7, 8])\n",
    "for_test.mean()"
   ]
  },
  {
   "cell_type": "code",
   "execution_count": null,
   "id": "e3696afa",
   "metadata": {},
   "outputs": [],
   "source": [
    "df_train = df[ ~for_test ]\n",
    "df_test = df[ for_test ]"
   ]
  },
  {
   "cell_type": "code",
   "execution_count": null,
   "id": "338fd405",
   "metadata": {},
   "outputs": [],
   "source": []
  },
  {
   "cell_type": "markdown",
   "id": "b913b889",
   "metadata": {},
   "source": [
    "## PCA"
   ]
  },
  {
   "cell_type": "code",
   "execution_count": null,
   "id": "eda66d2d",
   "metadata": {},
   "outputs": [],
   "source": [
    "from sklearn.decomposition import PCA"
   ]
  },
  {
   "cell_type": "code",
   "execution_count": null,
   "id": "ec5030ac",
   "metadata": {},
   "outputs": [],
   "source": [
    "# Отбираем только признаки вида \"количество объектов типа х в радиусе y\"\n",
    "# В радиусе всегда есть точка (например: osm_catering_points_in_0.01)\n",
    "pca_columns = df_train.columns[df_train.columns.str.contains('.', regex=False)]"
   ]
  },
  {
   "cell_type": "code",
   "execution_count": null,
   "id": "f12f2c9f",
   "metadata": {},
   "outputs": [],
   "source": [
    "df_pca = df_train.select_dtypes(include=np.number)\n",
    "\n",
    "df_pca = df_pca.loc[:, pca_columns]\n",
    "# корреляция после логарифмирования больше\n",
    "df_pca = df_pca.apply(np.log1p)\n",
    "\n",
    "df_pca = (df_pca - df_pca.mean()) / df_pca.std()\n",
    "df_pca = df_pca.fillna(df_pca.mean())"
   ]
  },
  {
   "cell_type": "code",
   "execution_count": null,
   "id": "bede014d",
   "metadata": {},
   "outputs": [],
   "source": [
    "pca = PCA()\n",
    "df_pca = pca.fit_transform(df_pca)"
   ]
  },
  {
   "cell_type": "code",
   "execution_count": null,
   "id": "7ca2188e",
   "metadata": {},
   "outputs": [],
   "source": [
    "px.bar( pca.explained_variance_ratio_, template='plotly_white' )"
   ]
  },
  {
   "cell_type": "code",
   "execution_count": null,
   "id": "1988f9e3",
   "metadata": {},
   "outputs": [],
   "source": []
  },
  {
   "cell_type": "markdown",
   "id": "528f0c49",
   "metadata": {},
   "source": [
    "## Признаки"
   ]
  },
  {
   "cell_type": "code",
   "execution_count": null,
   "id": "33c89f9f",
   "metadata": {},
   "outputs": [],
   "source": [
    "def get_features(df):\n",
    "    df_features = pd.DataFrame()\n",
    "    \n",
    "#     no_transformation = [\n",
    "#         # тут ничего не осталось\n",
    "#     ]\n",
    "#     for i in no_transformation:\n",
    "#         df_features[i] = df[i]\n",
    "    \n",
    "    log_features = [\n",
    "        'osm_city_closest_dist',\n",
    "        'osm_crossing_closest_dist',\n",
    "        'osm_subway_closest_dist',\n",
    "        # признак оказался незначимым, убираем\n",
    "        #'osm_train_stop_closest_dist',\n",
    "        'osm_transport_stop_closest_dist',\n",
    "        'reform_mean_floor_count_1000',\n",
    "        'total_square',\n",
    "        # Целевую переменную тоже логарифмируем\n",
    "        'per_square_meter_price'\n",
    "    ]\n",
    "    for i in log_features:\n",
    "        df_features[f'log_{i}'] = df[i].apply(np.log1p).values\n",
    "    \n",
    "    # добавляем первую главную компоненту\n",
    "    df_features['pca_1'] = pca.transform(df[pca_columns]).T[0]\n",
    "    df_features['pca_1'] /= 100\n",
    "    \n",
    "    # mean encoding для регионов\n",
    "    region_means = df['per_square_meter_price'].apply(np.log).groupby(df['region']).mean().to_dict()\n",
    "    df_features['region_means'] = df['region'].map(region_means).values\n",
    "        \n",
    "    return df_features"
   ]
  },
  {
   "cell_type": "code",
   "execution_count": null,
   "id": "761a4ee8",
   "metadata": {
    "scrolled": false
   },
   "outputs": [],
   "source": [
    "df_train = df_train.pipe(get_features)\n",
    "df_test = df_test.pipe(get_features)"
   ]
  },
  {
   "cell_type": "code",
   "execution_count": null,
   "id": "a1c666bf",
   "metadata": {},
   "outputs": [],
   "source": [
    "print(df_train.isna().sum().sum())\n",
    "print(df_test.isna().sum().sum())\n",
    "\n",
    "df_train = df_train.fillna(df_train.mean())\n",
    "df_test = df_test.fillna(df_test.mean())"
   ]
  },
  {
   "cell_type": "code",
   "execution_count": null,
   "id": "7aa6b023",
   "metadata": {},
   "outputs": [],
   "source": []
  },
  {
   "cell_type": "code",
   "execution_count": null,
   "id": "11a4c686",
   "metadata": {},
   "outputs": [],
   "source": [
    "# матрица корреляций признаков\n",
    "px.imshow(df_train.drop(columns=['log_per_square_meter_price']).corr(), \n",
    "          color_continuous_scale=['red', 'white', 'blue'],\n",
    "          color_continuous_midpoint=0)"
   ]
  },
  {
   "cell_type": "code",
   "execution_count": null,
   "id": "1f57d23d",
   "metadata": {},
   "outputs": [],
   "source": []
  },
  {
   "cell_type": "code",
   "execution_count": null,
   "id": "497c937d",
   "metadata": {},
   "outputs": [],
   "source": [
    "target_name = 'log_per_square_meter_price'\n",
    "\n",
    "X_train = df_train.drop(columns=[target_name])\n",
    "X_train = sm.add_constant(X_train)\n",
    "y_train = df_train[target_name]\n",
    "\n",
    "X_test = df_test.drop(columns=[target_name])\n",
    "X_test = sm.add_constant(X_test)\n",
    "y_test = df_test[target_name]"
   ]
  },
  {
   "cell_type": "markdown",
   "id": "3335c410",
   "metadata": {},
   "source": [
    "## Модель"
   ]
  },
  {
   "cell_type": "code",
   "execution_count": null,
   "id": "821a76eb",
   "metadata": {
    "scrolled": false
   },
   "outputs": [],
   "source": [
    "model = sm.OLS(y_train, X_train).fit()\n",
    "print(model.summary())"
   ]
  },
  {
   "cell_type": "markdown",
   "id": "65501763",
   "metadata": {},
   "source": [
    "**Посмотрим на влияние первой главной компоненты**"
   ]
  },
  {
   "cell_type": "code",
   "execution_count": null,
   "id": "ef20afb8",
   "metadata": {},
   "outputs": [],
   "source": [
    "fig = px.scatter(\n",
    "    x=df_train['pca_1'],\n",
    "    y=df_train['log_per_square_meter_price'],\n",
    "    trendline='ols',\n",
    "    trendline_color_override='black',\n",
    "    template='plotly_white'\n",
    ")\n",
    "fig.update_layout(xaxis_title='PC 1', yaxis_title='Log(Y)')\n",
    "fig.data[0].marker.size=3\n",
    "fig.show()"
   ]
  },
  {
   "cell_type": "markdown",
   "id": "9241bd0e",
   "metadata": {},
   "source": [
    "**Сравнение факта и модели (train)**"
   ]
  },
  {
   "cell_type": "code",
   "execution_count": null,
   "id": "dd88e922",
   "metadata": {},
   "outputs": [],
   "source": [
    "fig = px.scatter(\n",
    "    y=y_train,\n",
    "    x=model.predict(X_train).values,\n",
    "    trendline='ols',\n",
    "    trendline_color_override='black',\n",
    "    template='plotly_white'\n",
    ")\n",
    "fig.data[0].marker.size=3\n",
    "fig.update_layout(xaxis_title='Модель', yaxis_title='Факт')\n",
    "fig.show()"
   ]
  },
  {
   "cell_type": "markdown",
   "id": "14cd80e5",
   "metadata": {},
   "source": [
    "**Сравнение факта и модели (test)**"
   ]
  },
  {
   "cell_type": "code",
   "execution_count": null,
   "id": "f89ce352",
   "metadata": {},
   "outputs": [],
   "source": [
    "fig = px.scatter(\n",
    "    y=y_test,\n",
    "    x=model.predict(X_test),\n",
    "    trendline='ols',\n",
    "    trendline_color_override='black',\n",
    "    template='plotly_white'\n",
    ")\n",
    "fig.update_layout(xaxis_title='Модель', yaxis_title='Факт')\n",
    "fig.data[0].marker.size=3\n",
    "fig.show()"
   ]
  },
  {
   "cell_type": "code",
   "execution_count": null,
   "id": "b83171b8",
   "metadata": {},
   "outputs": [],
   "source": [
    "px.histogram(\n",
    "    model.predict(X_test),\n",
    "    template='plotly_white'\n",
    ")        "
   ]
  },
  {
   "cell_type": "markdown",
   "id": "46add43c",
   "metadata": {},
   "source": [
    "## Случайные остатки"
   ]
  },
  {
   "cell_type": "code",
   "execution_count": null,
   "id": "2b9a573d",
   "metadata": {},
   "outputs": [],
   "source": [
    "px.histogram( model.resid, template='plotly_white', nbins=80, marginal='box' ) "
   ]
  },
  {
   "cell_type": "code",
   "execution_count": null,
   "id": "8f021331",
   "metadata": {},
   "outputs": [],
   "source": [
    "q = np.linspace(0, 1, 200)[1:-1]\n",
    "fig = px.line(\n",
    "    x=model.resid.quantile(q),\n",
    "    y=model.resid.quantile(q),\n",
    "    template='plotly_white'\n",
    ")\n",
    "\n",
    "fig.add_traces(px.scatter(\n",
    "    x=model.resid.quantile(q),\n",
    "    y=scipy.stats.norm(model.resid.mean(), model.resid.std()).ppf(q)\n",
    ")['data'][0])\n",
    "\n",
    "fig.data[1].marker.size=4\n",
    "fig.data[0].line.color='lightgrey'\n",
    "# fig.data[1].line.dash='dot'\n",
    "fig.update_layout(xaxis_title='Факт', yaxis_title='Теория')\n",
    "fig.show()"
   ]
  },
  {
   "cell_type": "markdown",
   "id": "6df8386a",
   "metadata": {},
   "source": [
    "**Статистические тесты на нормальность**"
   ]
  },
  {
   "cell_type": "code",
   "execution_count": null,
   "id": "8422aed6",
   "metadata": {},
   "outputs": [],
   "source": [
    "# Подвыборка для теста\n",
    "# Хвосты обрезаем, иначе труднее делать тест Хи-квадрат\n",
    "test_sample = model.resid.sample(250, random_state=0).clip(-1, 1.5)\n",
    "# Теоретическое распределение - нормальное\n",
    "theory_distr = scipy.stats.norm(model.resid.mean(), model.resid.std())\n",
    "# Число бинов для теста Хи-квадрат\n",
    "n_bins = np.ceil(5 * np.log10(model.resid.size))"
   ]
  },
  {
   "cell_type": "code",
   "execution_count": null,
   "id": "f5e103b3",
   "metadata": {},
   "outputs": [],
   "source": [
    "# Из предыдущей лабораторной работы\n",
    "from lab1 import chi_square_bins"
   ]
  },
  {
   "cell_type": "code",
   "execution_count": null,
   "id": "158cf5a3",
   "metadata": {},
   "outputs": [],
   "source": [
    "f_obs, f_exp = chi_square_bins(\n",
    "    test_sample, \n",
    "    theory_distr, \n",
    "    int(n_bins)\n",
    ")"
   ]
  },
  {
   "cell_type": "code",
   "execution_count": null,
   "id": "e5fdc148",
   "metadata": {},
   "outputs": [],
   "source": [
    "scipy.stats.chisquare(f_obs, f_exp)"
   ]
  },
  {
   "cell_type": "code",
   "execution_count": null,
   "id": "5b74c64c",
   "metadata": {},
   "outputs": [],
   "source": [
    "scipy.stats.jarque_bera(test_sample)"
   ]
  },
  {
   "cell_type": "code",
   "execution_count": null,
   "id": "3c2ca34b",
   "metadata": {},
   "outputs": [],
   "source": []
  },
  {
   "cell_type": "markdown",
   "id": "ea1a64e5",
   "metadata": {},
   "source": [
    "## Регуляризация"
   ]
  },
  {
   "cell_type": "code",
   "execution_count": null,
   "id": "d4efb882",
   "metadata": {},
   "outputs": [],
   "source": [
    "score_without_reg = r2_score(y_test, model.predict(X_test))\n",
    "score_without_reg"
   ]
  },
  {
   "cell_type": "code",
   "execution_count": null,
   "id": "2144d4e5",
   "metadata": {},
   "outputs": [],
   "source": [
    "from sklearn.linear_model import Ridge, Lasso"
   ]
  },
  {
   "cell_type": "code",
   "execution_count": null,
   "id": "d14aa65a",
   "metadata": {},
   "outputs": [],
   "source": [
    "# alpha_search = np.linspace(0.0001, 0.0030, 25)\n",
    "alpha_search = np.linspace(0.0001, 40, 25)\n",
    "\n",
    "reg_accuracy = [\n",
    "    Ridge(alpha=alpha).fit(X_train, y_train).score(X_test, y_test)\n",
    "    for alpha in alpha_search\n",
    "]"
   ]
  },
  {
   "cell_type": "code",
   "execution_count": null,
   "id": "7248f118",
   "metadata": {},
   "outputs": [],
   "source": [
    "fig = px.line(\n",
    "    x=alpha_search, \n",
    "    y=reg_accuracy, \n",
    "    template='plotly_white'\n",
    ")\n",
    "\n",
    "fig.add_traces(px.line(\n",
    "    x=alpha_search, y=[score_without_reg]*len(alpha_search)\n",
    ")['data'][0])\n",
    "\n",
    "fig.data[0].mode = 'lines+markers'\n",
    "\n",
    "fig.data[0].line.color = 'black'; fig.data[1].line.color = 'darkblue'\n",
    "fig.update_layout(xaxis_title='alpha', yaxis_title='R^2 на тесте')\n",
    "\n",
    "fig.show()"
   ]
  },
  {
   "cell_type": "code",
   "execution_count": null,
   "id": "55ad5c49",
   "metadata": {},
   "outputs": [],
   "source": [
    "# Прирост от регуляризации, в процентах\n",
    "(max(reg_accuracy) - score_without_reg) * 100"
   ]
  },
  {
   "cell_type": "code",
   "execution_count": null,
   "id": "8fe9d85b",
   "metadata": {},
   "outputs": [],
   "source": []
  },
  {
   "cell_type": "markdown",
   "id": "4bc35d60",
   "metadata": {},
   "source": [
    "## Доверительный интервал"
   ]
  },
  {
   "cell_type": "code",
   "execution_count": null,
   "id": "13ebad31",
   "metadata": {},
   "outputs": [],
   "source": [
    "def get_error(model, x_new):\n",
    "    # число наблюдений\n",
    "    n = model.resid.size\n",
    "    # число параметров\n",
    "    # (применяется метод add_constant, \n",
    "    # поэтому +1 к числу параметров не нужно)\n",
    "    k = x_new.size\n",
    "    x = X_train.values\n",
    "    # матричные операции\n",
    "    inv = np.linalg.inv(np.dot(x.T, x))\n",
    "    a = np.sqrt(np.dot(\n",
    "        np.dot(x_new, inv),\n",
    "        x_new\n",
    "    ))\n",
    "    # MSE\n",
    "    mse = np.square(model.resid.values).mean()**0.5 \n",
    "    mse *= np.sqrt( n/(n-k) )\n",
    "    # распределение Стьюдента\n",
    "    t = scipy.stats.t.ppf(1-0.05/2, n-2)\n",
    "    \n",
    "    return a * mse * abs(t)"
   ]
  },
  {
   "cell_type": "code",
   "execution_count": null,
   "id": "5e902372",
   "metadata": {},
   "outputs": [],
   "source": [
    "get_error(model, X_test.values[9])"
   ]
  },
  {
   "cell_type": "code",
   "execution_count": null,
   "id": "a9b85815",
   "metadata": {},
   "outputs": [],
   "source": [
    "df_confidence_interval = pd.DataFrame()\n",
    "\n",
    "df_confidence_interval['y_true'] = y_test\n",
    "df_confidence_interval['y_pred'] = model.predict(X_test)\n",
    "# считаем длину доверительного интервала\n",
    "df_confidence_interval['error'] = [\n",
    "    get_error(model, x_new)\n",
    "    for x_new in X_test.values\n",
    "]\n",
    "# сверим со встроенным из statsmodels\n",
    "df_confidence_interval['statsmodels_errors'] = (\n",
    "    model\n",
    "    .get_prediction(X_test)\n",
    "    .summary_frame(alpha=0.05)\n",
    "    .assign(statsmodels_errors=lambda x: \n",
    "            (x.mean_ci_upper-x.mean_ci_lower)/2)\n",
    ")['statsmodels_errors']"
   ]
  },
  {
   "cell_type": "code",
   "execution_count": null,
   "id": "a27078af",
   "metadata": {},
   "outputs": [],
   "source": [
    "# сравним со встроенной функцией statsmodels\n",
    "((\n",
    "    df_confidence_interval['error'] - \n",
    "    df_confidence_interval['statsmodels_errors']\n",
    ").abs() < 1e-7).all()"
   ]
  },
  {
   "cell_type": "markdown",
   "id": "f12a0c6e",
   "metadata": {},
   "source": [
    "**Графики с доверительными интервалами**"
   ]
  },
  {
   "cell_type": "code",
   "execution_count": null,
   "id": "f2717113",
   "metadata": {},
   "outputs": [],
   "source": [
    "x_var_error_bar_plot = 'region_means'\n",
    "fig = px.scatter(\n",
    "    (\n",
    "        df_confidence_interval\n",
    "        .assign(x=X_test[x_var_error_bar_plot])\n",
    "        # выберем точки равномерно по оси x\n",
    "        .sort_values('x')\n",
    "        .iloc[::10]\n",
    "    ), \n",
    "    x='x', \n",
    "    y='y_pred',\n",
    "    error_y='error',\n",
    "    template='plotly_white'\n",
    ")\n",
    "fig.update_layout(xaxis_title=x_var_error_bar_plot)\n",
    "fig.data[0].marker.size=1\n",
    "fig.show()"
   ]
  },
  {
   "cell_type": "code",
   "execution_count": null,
   "id": "9d50644a",
   "metadata": {},
   "outputs": [],
   "source": []
  }
 ],
 "metadata": {
  "kernelspec": {
   "display_name": "Python 3 (ipykernel)",
   "language": "python",
   "name": "python3"
  },
  "language_info": {
   "codemirror_mode": {
    "name": "ipython",
    "version": 3
   },
   "file_extension": ".py",
   "mimetype": "text/x-python",
   "name": "python",
   "nbconvert_exporter": "python",
   "pygments_lexer": "ipython3",
   "version": "3.9.12"
  }
 },
 "nbformat": 4,
 "nbformat_minor": 5
}
