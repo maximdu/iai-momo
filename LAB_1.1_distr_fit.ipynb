{
 "cells": [
  {
   "cell_type": "code",
   "execution_count": null,
   "id": "5dbc00bb",
   "metadata": {},
   "outputs": [],
   "source": [
    "# Вычисления\n",
    "import numpy as np\n",
    "import pandas as pd\n",
    "import scipy\n",
    "from sklearn.mixture import GaussianMixture\n",
    "# Визуализация\n",
    "import plotly.express as px\n",
    "import plotly.graph_objects as go\n",
    "import seaborn as sns\n",
    "%matplotlib notebook"
   ]
  },
  {
   "cell_type": "code",
   "execution_count": null,
   "id": "f39b8a13",
   "metadata": {},
   "outputs": [],
   "source": [
    "import lab1"
   ]
  },
  {
   "cell_type": "markdown",
   "id": "6d8a137a",
   "metadata": {},
   "source": [
    "## Выбираем признак"
   ]
  },
  {
   "cell_type": "code",
   "execution_count": null,
   "id": "2e44946c",
   "metadata": {},
   "outputs": [],
   "source": [
    "df = pd.read_csv('data/raifhack_train.csv', usecols=lambda x: x not in ['floor'])"
   ]
  },
  {
   "cell_type": "code",
   "execution_count": null,
   "id": "cd4b819e",
   "metadata": {},
   "outputs": [],
   "source": [
    "df_sample = df.sample(150, random_state=0)\n",
    "var = df_sample['per_square_meter_price']"
   ]
  },
  {
   "cell_type": "markdown",
   "id": "c47d4572",
   "metadata": {},
   "source": [
    "**Преобразования**"
   ]
  },
  {
   "cell_type": "code",
   "execution_count": null,
   "id": "73ebc218",
   "metadata": {},
   "outputs": [],
   "source": [
    "var = var.apply(np.log)"
   ]
  },
  {
   "cell_type": "code",
   "execution_count": null,
   "id": "c3348042",
   "metadata": {},
   "outputs": [],
   "source": [
    "var = lab1.cut_tails(var)"
   ]
  },
  {
   "cell_type": "code",
   "execution_count": null,
   "id": "0dbcf226",
   "metadata": {},
   "outputs": [],
   "source": [
    "# Определяем количество бинов\n",
    "nbins = lab1.get_nbins(var)\n",
    "nbins"
   ]
  },
  {
   "cell_type": "code",
   "execution_count": null,
   "id": "19bad96a",
   "metadata": {},
   "outputs": [],
   "source": []
  },
  {
   "cell_type": "markdown",
   "id": "c0c1567a",
   "metadata": {},
   "source": [
    "## Описательные статистики"
   ]
  },
  {
   "cell_type": "code",
   "execution_count": null,
   "id": "e2b23ac6",
   "metadata": {},
   "outputs": [],
   "source": [
    "fig = px.histogram(var, \n",
    "                   marginal='box', \n",
    "                   template='plotly_white')\n",
    "fig.layout.showlegend=False\n",
    "fig.show()"
   ]
  },
  {
   "cell_type": "code",
   "execution_count": null,
   "id": "7836503e",
   "metadata": {},
   "outputs": [],
   "source": [
    "sns.set_style('whitegrid')\n",
    "plot = sns.histplot(var, kde=True, bins=nbins, fill=False)\n",
    "plot.lines[0].set_color('black')\n",
    "plot"
   ]
  },
  {
   "cell_type": "code",
   "execution_count": null,
   "id": "802372a0",
   "metadata": {},
   "outputs": [],
   "source": [
    "{i:round(j,5) \n",
    " for i,j in var.describe().to_dict().items()}"
   ]
  },
  {
   "cell_type": "code",
   "execution_count": null,
   "id": "5c45500b",
   "metadata": {},
   "outputs": [],
   "source": [
    "{i:round(j,5)\n",
    " for i,j in lab1.get_main_quantiles(var).items()}"
   ]
  },
  {
   "cell_type": "markdown",
   "id": "6d57af14",
   "metadata": {},
   "source": [
    "## Подбор параметров"
   ]
  },
  {
   "cell_type": "code",
   "execution_count": null,
   "id": "cd4c4537",
   "metadata": {},
   "outputs": [],
   "source": [
    "# Теоретическое распределение\n",
    "theory_distr = scipy.stats.gamma"
   ]
  },
  {
   "cell_type": "code",
   "execution_count": null,
   "id": "e3795e42",
   "metadata": {},
   "outputs": [],
   "source": [
    "params = theory_distr.fit(var)\n",
    "params = np.array(params)\n",
    "\n",
    "# params = np.array([\n",
    "#     var.mean(),\n",
    "#     var.std()\n",
    "# ])\n",
    "\n",
    "params"
   ]
  },
  {
   "cell_type": "markdown",
   "id": "e675088b",
   "metadata": {},
   "source": [
    "**Метод наименьших квадратов**"
   ]
  },
  {
   "cell_type": "code",
   "execution_count": null,
   "id": "469a8c95",
   "metadata": {},
   "outputs": [],
   "source": [
    "ls_result = lab1.least_squares_method(var, theory_distr, x0=params*0.9)"
   ]
  },
  {
   "cell_type": "code",
   "execution_count": null,
   "id": "d7abbf8b",
   "metadata": {},
   "outputs": [],
   "source": [
    "print(ls_result)"
   ]
  },
  {
   "cell_type": "code",
   "execution_count": null,
   "id": "5500e08a",
   "metadata": {},
   "outputs": [],
   "source": [
    "ls_result.x"
   ]
  },
  {
   "cell_type": "markdown",
   "id": "246ef663",
   "metadata": {},
   "source": [
    "**Метод максимального правдоподобия**"
   ]
  },
  {
   "cell_type": "code",
   "execution_count": null,
   "id": "1f258fd1",
   "metadata": {},
   "outputs": [],
   "source": [
    "ml_result = lab1.max_likelihood_method(var, theory_distr, x0=params*0.9)"
   ]
  },
  {
   "cell_type": "code",
   "execution_count": null,
   "id": "e8a995b3",
   "metadata": {},
   "outputs": [],
   "source": [
    "print(ml_result)"
   ]
  },
  {
   "cell_type": "code",
   "execution_count": null,
   "id": "5df85297",
   "metadata": {},
   "outputs": [],
   "source": [
    "ml_result.x"
   ]
  },
  {
   "cell_type": "code",
   "execution_count": null,
   "id": "40082e9f",
   "metadata": {},
   "outputs": [],
   "source": [
    "# Готовое распределение\n",
    "theory_distr_with_params = theory_distr(*params)"
   ]
  },
  {
   "cell_type": "code",
   "execution_count": null,
   "id": "fd948cfb",
   "metadata": {},
   "outputs": [],
   "source": []
  },
  {
   "cell_type": "markdown",
   "id": "ea6a0098",
   "metadata": {},
   "source": [
    "## Проверка подобранного распределения"
   ]
  },
  {
   "cell_type": "markdown",
   "id": "d77fc67e",
   "metadata": {},
   "source": [
    "**QQ Plot**"
   ]
  },
  {
   "cell_type": "code",
   "execution_count": null,
   "id": "9c433311",
   "metadata": {},
   "outputs": [],
   "source": [
    "lab1.qq_plot(var, theory_distr_with_params)"
   ]
  },
  {
   "cell_type": "markdown",
   "id": "46cad2da",
   "metadata": {},
   "source": [
    "**Гистограмма**"
   ]
  },
  {
   "cell_type": "code",
   "execution_count": null,
   "id": "a14d8557",
   "metadata": {
    "scrolled": false
   },
   "outputs": [],
   "source": [
    "lab1.hist_fitted_plot(var, theory_distr_with_params)"
   ]
  },
  {
   "cell_type": "markdown",
   "id": "21fa7937",
   "metadata": {},
   "source": [
    "## Статистические тесты"
   ]
  },
  {
   "cell_type": "markdown",
   "id": "95544fe1",
   "metadata": {},
   "source": [
    "**Тест Колмогорова-Смирнова**"
   ]
  },
  {
   "cell_type": "code",
   "execution_count": null,
   "id": "9d58778c",
   "metadata": {},
   "outputs": [],
   "source": [
    "scipy.stats.kstest(var, theory_distr_with_params.cdf)"
   ]
  },
  {
   "cell_type": "markdown",
   "id": "b19c2836",
   "metadata": {},
   "source": [
    "**Тест Хи-квадрат**"
   ]
  },
  {
   "cell_type": "code",
   "execution_count": null,
   "id": "b4e43181",
   "metadata": {},
   "outputs": [],
   "source": [
    "f_obs, f_exp = lab1.chi_square_bins(var, theory_distr_with_params, nbins)\n",
    "f_obs, f_exp"
   ]
  },
  {
   "cell_type": "code",
   "execution_count": null,
   "id": "4b2d9473",
   "metadata": {},
   "outputs": [],
   "source": [
    "scipy.stats.chisquare(f_obs=f_obs, f_exp=f_exp)"
   ]
  },
  {
   "cell_type": "markdown",
   "id": "7ea7a754",
   "metadata": {},
   "source": [
    "**Тест Жака-Бера**"
   ]
  },
  {
   "cell_type": "code",
   "execution_count": null,
   "id": "2e57ec7c",
   "metadata": {},
   "outputs": [],
   "source": [
    "if theory_distr.name == 'norm':\n",
    "    print( scipy.stats.jarque_bera(var) )"
   ]
  },
  {
   "cell_type": "code",
   "execution_count": null,
   "id": "8385ee2f",
   "metadata": {},
   "outputs": [],
   "source": []
  },
  {
   "cell_type": "markdown",
   "id": "b1a2c085",
   "metadata": {},
   "source": [
    "## Сэмплирование"
   ]
  },
  {
   "cell_type": "code",
   "execution_count": null,
   "id": "c0eed1b1",
   "metadata": {},
   "outputs": [],
   "source": [
    "# sample = lab1.accept_reject_sampling(\n",
    "#     theory_distr_with_params=theory_distr_with_params,\n",
    "#     x_min=1,\n",
    "#     x_max=9,\n",
    "#     max_pdf=1,\n",
    "#     size=10_000\n",
    "# )"
   ]
  },
  {
   "cell_type": "code",
   "execution_count": null,
   "id": "83db204e",
   "metadata": {},
   "outputs": [],
   "source": [
    "sample = lab1.clt_generator(size=10_000, n_layers=100, mean=params[0], std=params[1])"
   ]
  },
  {
   "cell_type": "code",
   "execution_count": null,
   "id": "24ba0bce",
   "metadata": {},
   "outputs": [],
   "source": [
    "fig = px.histogram(sample,\n",
    "                   nbins=30,\n",
    "                   marginal='box', \n",
    "                   template='plotly_white')\n",
    "fig.layout.showlegend=False\n",
    "fig.show()"
   ]
  },
  {
   "cell_type": "markdown",
   "id": "1df5561a",
   "metadata": {},
   "source": [
    "**График QQ Plot для сэмпла**"
   ]
  },
  {
   "cell_type": "code",
   "execution_count": null,
   "id": "6f8995c6",
   "metadata": {},
   "outputs": [],
   "source": [
    "uniform_quantiles = np.linspace(0, 1, 50+1)[1:-1]\n",
    "fig = px.scatter(\n",
    "    x=var.quantile(uniform_quantiles).values,\n",
    "    y=np.quantile(sample, uniform_quantiles),\n",
    "    template='plotly_white'\n",
    ")\n",
    "\n",
    "fig.add_trace(go.Scatter(\n",
    "    x=var.quantile(uniform_quantiles).values,\n",
    "    y=var.quantile(uniform_quantiles).values,\n",
    "    line_color='lightgrey',\n",
    "    line_dash='dash'\n",
    "))\n",
    "\n",
    "fig.data[0].marker.size = 5\n",
    "fig.layout.showlegend=False\n",
    "\n",
    "fig.update_layout(\n",
    "    xaxis_title='Фактические значения', \n",
    "    yaxis_title='Теоретические значения'\n",
    ")\n",
    "\n",
    "fig.show()"
   ]
  },
  {
   "cell_type": "code",
   "execution_count": null,
   "id": "4afbdb2d",
   "metadata": {},
   "outputs": [],
   "source": []
  },
  {
   "cell_type": "code",
   "execution_count": null,
   "id": "c5dd4ac0",
   "metadata": {},
   "outputs": [],
   "source": []
  },
  {
   "cell_type": "code",
   "execution_count": null,
   "id": "2397a3d2",
   "metadata": {},
   "outputs": [],
   "source": []
  }
 ],
 "metadata": {
  "kernelspec": {
   "display_name": "Python 3 (ipykernel)",
   "language": "python",
   "name": "python3"
  },
  "language_info": {
   "codemirror_mode": {
    "name": "ipython",
    "version": 3
   },
   "file_extension": ".py",
   "mimetype": "text/x-python",
   "name": "python",
   "nbconvert_exporter": "python",
   "pygments_lexer": "ipython3",
   "version": "3.9.12"
  }
 },
 "nbformat": 4,
 "nbformat_minor": 5
}
