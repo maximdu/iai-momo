{
 "cells": [
  {
   "cell_type": "markdown",
   "id": "76f3d26e",
   "metadata": {},
   "source": [
    "# Ноутбук для разведочного анализа данных"
   ]
  },
  {
   "cell_type": "code",
   "execution_count": null,
   "id": "c3b28b8f",
   "metadata": {},
   "outputs": [],
   "source": [
    "import numpy as np\n",
    "import pandas as pd\n",
    "pd.options.mode.use_inf_as_na = True\n",
    "\n",
    "import plotly.express as px\n",
    "import plotly.graph_objects as go"
   ]
  },
  {
   "cell_type": "markdown",
   "id": "fd4a062d",
   "metadata": {},
   "source": [
    "## Данные"
   ]
  },
  {
   "cell_type": "code",
   "execution_count": null,
   "id": "3575c0d5",
   "metadata": {},
   "outputs": [],
   "source": [
    "df = pd.read_csv('data/raifhack_train.csv', \n",
    "    parse_dates=['date'], \n",
    "    usecols=lambda x: x not in ['floor']\n",
    ")"
   ]
  },
  {
   "cell_type": "code",
   "execution_count": null,
   "id": "ea0ac388",
   "metadata": {},
   "outputs": [],
   "source": [
    "# Есть 2 типа оценок: \n",
    "# 0 = из парсинга объявлений\n",
    "# 1 = экспертные оценки\n",
    "# Цены из объявлений содержат много шума, поэтому берем экспертные\n",
    "# + Экспертных оценок меньше (около 5000), меньше времени на обучение\n",
    "is_expert = (df['price_type'] == 1)\n",
    "df = df[is_expert]"
   ]
  },
  {
   "cell_type": "code",
   "execution_count": null,
   "id": "55b86400",
   "metadata": {},
   "outputs": [],
   "source": [
    "for_test = df['date'].dt.month.isin([7, 8])\n",
    "for_test.mean()\n",
    "df_train = df[ ~for_test ]\n",
    "df_test = df[ for_test ]"
   ]
  },
  {
   "cell_type": "code",
   "execution_count": null,
   "id": "2660f21f",
   "metadata": {},
   "outputs": [],
   "source": [
    "df.columns"
   ]
  },
  {
   "cell_type": "markdown",
   "id": "bac1c040",
   "metadata": {},
   "source": [
    "## Признаки"
   ]
  },
  {
   "cell_type": "markdown",
   "id": "1c926d67",
   "metadata": {},
   "source": [
    "**Корреляции отдельных переменных**"
   ]
  },
  {
   "cell_type": "code",
   "execution_count": null,
   "id": "addb45e6",
   "metadata": {},
   "outputs": [],
   "source": [
    "fig = px.scatter(\n",
    "    x=df['total_square'].apply(np.log),\n",
    "    y=df['per_square_meter_price'].apply(np.log),\n",
    "    \n",
    "    trendline='ols',\n",
    "    trendline_color_override='black',\n",
    "    \n",
    "    template='plotly_white'\n",
    ")\n",
    "fig.data[0].marker.size=3\n",
    "fig.show()"
   ]
  },
  {
   "cell_type": "markdown",
   "id": "fa4f9cd3",
   "metadata": {},
   "source": [
    "**Двумерная гистограмма**"
   ]
  },
  {
   "cell_type": "code",
   "execution_count": null,
   "id": "997a63ae",
   "metadata": {},
   "outputs": [],
   "source": [
    "fig = px.density_heatmap(\n",
    "    x=df['total_square'].apply(np.log),\n",
    "    y=df['per_square_meter_price'].apply(np.log),\n",
    "        \n",
    "    color_continuous_scale='blues',\n",
    "    nbinsx=100, nbinsy=50,\n",
    "    \n",
    "    template='plotly_white'\n",
    ")\n",
    "fig.show()"
   ]
  },
  {
   "cell_type": "markdown",
   "id": "02790a6b",
   "metadata": {},
   "source": [
    "**Нужен ли логарифм**"
   ]
  },
  {
   "cell_type": "code",
   "execution_count": null,
   "id": "4b7422ff",
   "metadata": {},
   "outputs": [],
   "source": [
    "def should_use_func(x, y, func=np.log):\n",
    "    fname = func.__name__\n",
    "    f_x = x.apply(func)\n",
    "    f_y = y.apply(func)\n",
    "    print(f'No {fname}: ', y.corr(x))\n",
    "    print(f' Y {fname}: ', f_y.corr(x))\n",
    "    print(f' X {fname}: ', y.corr(f_x))\n",
    "    print(f'XY {fname}: ', f_y.corr(f_x))"
   ]
  },
  {
   "cell_type": "code",
   "execution_count": null,
   "id": "3878625c",
   "metadata": {},
   "outputs": [],
   "source": [
    "features = [\n",
    "    'osm_city_closest_dist',\n",
    "    'osm_city_nearest_population',\n",
    "    'osm_crossing_closest_dist',\n",
    "    'osm_subway_closest_dist',\n",
    "    'osm_train_stop_closest_dist',\n",
    "    'osm_transport_stop_closest_dist',\n",
    "    'reform_mean_floor_count_1000',\n",
    "    'total_square',\n",
    "]\n",
    "for x in features:\n",
    "    print(x)\n",
    "    should_use_func(\n",
    "        x=df[x], \n",
    "        y=df['per_square_meter_price']\n",
    "    )\n",
    "    print('--')"
   ]
  },
  {
   "cell_type": "markdown",
   "id": "6903c6c3",
   "metadata": {},
   "source": [
    "**Смотрим категориальные переменные**"
   ]
  },
  {
   "cell_type": "code",
   "execution_count": null,
   "id": "4fc796c0",
   "metadata": {},
   "outputs": [],
   "source": [
    "fig = px.bar(\n",
    "    df_train.groupby('region').agg({'per_square_meter_price': 'mean'}).squeeze().sort_values().tail(30),\n",
    "    orientation='h',\n",
    "    template='plotly_white'\n",
    ")\n",
    "fig.update_layout(height=600)\n",
    "fig.show()"
   ]
  },
  {
   "cell_type": "code",
   "execution_count": null,
   "id": "d574c97b",
   "metadata": {},
   "outputs": [],
   "source": [
    "px.bar(\n",
    "    df.groupby('osm_city_nearest_name').agg(\n",
    "        count=('per_square_meter_price', 'count'),\n",
    "        mean=('per_square_meter_price', 'mean'),\n",
    "    ).sort_values('count', ascending=False).head(50)['mean'].sort_values()\n",
    ")"
   ]
  },
  {
   "cell_type": "markdown",
   "id": "c1cfe1ab",
   "metadata": {},
   "source": [
    "## Корреляции"
   ]
  },
  {
   "cell_type": "code",
   "execution_count": null,
   "id": "54607c15",
   "metadata": {},
   "outputs": [],
   "source": [
    "# corr = df.sample(frac=0.1).corr(\n",
    "#     method='spearman'\n",
    "# )\n",
    "corr_features = (\n",
    "    df_train.columns.str.contains('.', regex=False) \n",
    "    | df_train.columns.str.contains('price', regex=False)\n",
    ")\n",
    "corr = df_train.loc[:, ~corr_features].corr(\n",
    "    method='spearman'\n",
    ")"
   ]
  },
  {
   "cell_type": "code",
   "execution_count": null,
   "id": "2d9e9689",
   "metadata": {},
   "outputs": [],
   "source": [
    "# px.box(corr.abs().values.flatten())"
   ]
  },
  {
   "cell_type": "code",
   "execution_count": null,
   "id": "2d0946c6",
   "metadata": {},
   "outputs": [],
   "source": [
    "px.imshow(corr.values, \n",
    "          color_continuous_scale=['red', 'white', 'blue'],\n",
    "          color_continuous_midpoint=0)"
   ]
  },
  {
   "cell_type": "code",
   "execution_count": null,
   "id": "a5b0d1d6",
   "metadata": {},
   "outputs": [],
   "source": []
  },
  {
   "cell_type": "markdown",
   "id": "1d29bca2",
   "metadata": {},
   "source": [
    "## PCA"
   ]
  },
  {
   "cell_type": "code",
   "execution_count": null,
   "id": "e2f54104",
   "metadata": {},
   "outputs": [],
   "source": [
    "from sklearn.decomposition import PCA"
   ]
  },
  {
   "cell_type": "code",
   "execution_count": null,
   "id": "3d07d10f",
   "metadata": {},
   "outputs": [],
   "source": [
    "df_pca = df_train.select_dtypes(include=np.number)\n",
    "\n",
    "df_pca = df_pca.loc[:,\n",
    "#     df_pca.columns.str.contains('00$', regex=True)\n",
    "    df_pca.columns.str.contains('.', regex=False)\n",
    "]\n",
    "\n",
    "df_pca = df_pca.apply(np.log1p)\n",
    "\n",
    "df_pca = (df_pca - df_pca.mean()) / df_pca.std()\n",
    "df_pca = df_pca.fillna(df_pca.mean())"
   ]
  },
  {
   "cell_type": "code",
   "execution_count": null,
   "id": "6f2fb79d",
   "metadata": {},
   "outputs": [],
   "source": [
    "df_pca"
   ]
  },
  {
   "cell_type": "code",
   "execution_count": null,
   "id": "352215a1",
   "metadata": {},
   "outputs": [],
   "source": [
    "pca = PCA()"
   ]
  },
  {
   "cell_type": "code",
   "execution_count": null,
   "id": "bf1e1383",
   "metadata": {},
   "outputs": [],
   "source": [
    "df_pca = pca.fit_transform(df_pca)"
   ]
  },
  {
   "cell_type": "code",
   "execution_count": null,
   "id": "576fdda1",
   "metadata": {},
   "outputs": [],
   "source": [
    "px.bar( pca.explained_variance_ratio_ )"
   ]
  },
  {
   "cell_type": "code",
   "execution_count": null,
   "id": "4a34c65a",
   "metadata": {},
   "outputs": [],
   "source": [
    "df_pca = pd.DataFrame(df_pca).assign(\n",
    "    X=df_train['osm_catering_points_in_0.01'].apply(np.log1p),\n",
    "    Y=df_train['per_square_meter_price'].apply(np.log)\n",
    ")"
   ]
  },
  {
   "cell_type": "code",
   "execution_count": null,
   "id": "5c30ec40",
   "metadata": {},
   "outputs": [],
   "source": [
    "px.scatter(\n",
    "    df_pca.sample(10_000),\n",
    "    x=0,\n",
    "    y='Y',\n",
    "    trendline='ols',\n",
    "    trendline_color_override='black'\n",
    ")"
   ]
  },
  {
   "cell_type": "code",
   "execution_count": null,
   "id": "0fe22eb3",
   "metadata": {},
   "outputs": [],
   "source": [
    "px.scatter(\n",
    "    df_pca.sample(10_000),\n",
    "    x='X',\n",
    "    y='Y',\n",
    "    trendline='ols',\n",
    "    trendline_color_override='black'\n",
    ")"
   ]
  },
  {
   "cell_type": "code",
   "execution_count": null,
   "id": "a8cb50ea",
   "metadata": {},
   "outputs": [],
   "source": []
  },
  {
   "cell_type": "markdown",
   "id": "3140c767",
   "metadata": {},
   "source": [
    "## Кластеризация по координатам"
   ]
  },
  {
   "cell_type": "markdown",
   "id": "f13affef",
   "metadata": {},
   "source": [
    "**Смотрим, какие признаки можно сделать по координатам**\n",
    "\n",
    "**в модели не используется**"
   ]
  },
  {
   "cell_type": "code",
   "execution_count": null,
   "id": "9e4895f5",
   "metadata": {},
   "outputs": [],
   "source": [
    "from sklearn.cluster import KMeans"
   ]
  },
  {
   "cell_type": "code",
   "execution_count": null,
   "id": "0b83ae99",
   "metadata": {},
   "outputs": [],
   "source": [
    "temp = df.sample(20_000, random_state=0)"
   ]
  },
  {
   "cell_type": "code",
   "execution_count": null,
   "id": "01554dcf",
   "metadata": {},
   "outputs": [],
   "source": [
    "temp['y'] = temp['per_square_meter_price'].apply(np.log)"
   ]
  },
  {
   "cell_type": "code",
   "execution_count": null,
   "id": "d9dc6d2f",
   "metadata": {},
   "outputs": [],
   "source": [
    "min_, max_ = temp['lat'].quantile([0.001, 0.999]).values\n",
    "temp['lat'] = temp['lat'].clip(min_, max_)\n",
    "\n",
    "min_, max_ = temp['lng'].quantile([0.001, 0.999]).values\n",
    "temp['lng'] = temp['lng'].clip(min_, max_)"
   ]
  },
  {
   "cell_type": "code",
   "execution_count": null,
   "id": "22d7a88e",
   "metadata": {},
   "outputs": [],
   "source": []
  },
  {
   "cell_type": "code",
   "execution_count": null,
   "id": "c14f336f",
   "metadata": {},
   "outputs": [],
   "source": [
    "clust = KMeans(n_clusters=1000)\n",
    "temp['cluster'] = clust.fit_predict(temp[['lat', 'lng']])\n",
    "temp['cluster_mean'] = temp['cluster'].map(\n",
    "    temp.groupby('cluster').agg({'per_square_meter_price': 'mean'}).squeeze().to_dict()\n",
    ")"
   ]
  },
  {
   "cell_type": "code",
   "execution_count": null,
   "id": "3632a1e3",
   "metadata": {},
   "outputs": [],
   "source": [
    "px.scatter_3d(\n",
    "    temp,\n",
    "    x='lng',\n",
    "    y='lat',\n",
    "    z='cluster_mean',\n",
    "    color='cluster_mean',\n",
    "    color_continuous_scale=['lime', 'yellow', 'orange', 'red', 'darkred'][::-1],\n",
    "    template='plotly_white'\n",
    ")"
   ]
  },
  {
   "cell_type": "code",
   "execution_count": null,
   "id": "7ffb93ea",
   "metadata": {},
   "outputs": [],
   "source": [
    "px.bar( np.sort(temp['cluster_mean'].unique()) )"
   ]
  },
  {
   "cell_type": "code",
   "execution_count": null,
   "id": "88892e77",
   "metadata": {},
   "outputs": [],
   "source": [
    "px.scatter(\n",
    "    temp,\n",
    "    x='cluster_mean',\n",
    "    y='per_square_meter_price',\n",
    "    trendline='ols',\n",
    "    trendline_color_override='black'\n",
    ")"
   ]
  },
  {
   "cell_type": "code",
   "execution_count": null,
   "id": "368e41bc",
   "metadata": {},
   "outputs": [],
   "source": []
  },
  {
   "cell_type": "code",
   "execution_count": null,
   "id": "f6caf261",
   "metadata": {},
   "outputs": [],
   "source": []
  }
 ],
 "metadata": {
  "kernelspec": {
   "display_name": "Python 3 (ipykernel)",
   "language": "python",
   "name": "python3"
  },
  "language_info": {
   "codemirror_mode": {
    "name": "ipython",
    "version": 3
   },
   "file_extension": ".py",
   "mimetype": "text/x-python",
   "name": "python",
   "nbconvert_exporter": "python",
   "pygments_lexer": "ipython3",
   "version": "3.9.12"
  }
 },
 "nbformat": 4,
 "nbformat_minor": 5
}
